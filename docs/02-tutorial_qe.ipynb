{
 "cells": [
  {
   "cell_type": "markdown",
   "metadata": {},
   "source": [
    "---\n",
    "title: How to submit a PwBaseWorkChain \n",
    "subtitle: \n",
    "#author:\n",
    "#  - name: Miki Bonacci\n",
    "    #affiliations: Executable Books; Curvenote\n",
    "    #orcid: 0000-0002-7859-8394\n",
    "#    email: miki.bonacci@psi.ch\n",
    "license:\n",
    "  code: MIT\n",
    "#date: 2023/01/23\n",
    "---\n",
    "\n",
    "In the following we show how to run a calculation with the `aiida-quantumespresso` plugin using the new *atomistic* `StructureData`. \n",
    "The procedure is very similar to the [old way](https://aiida-quantumespresso.readthedocs.io/en/latest/tutorials/first_pw.html), except to the fact that now properties like magnetization and charge are provided within the structure\n",
    "and not in the input parameters of the `PwCalculation`.\n",
    "\n",
    "***For now, only magnetization is supported.***\n",
    "\n",
    "***TO MAKE IT WORK, PLEASE USE THE FOLLOWING VERSIONS OF THE RELATED CODES:***\n",
    "\n",
    "- aiida-core: [new_StructureData branch](https://github.com/mikibonacci/aiida-core/tree/new_StructureData)\n",
    "- aiida-quantumespresso: [new_StructureData branch](https://github.com/mikibonacci/aiida-quantumespresso/tree/new_StructureData)\n",
    "- aiida-pseudo: [new_StructureData branch](https://github.com/mikibonacci/aiida-pseudo/tree/new_StructureData)"
   ]
  },
  {
   "cell_type": "code",
   "execution_count": 1,
   "metadata": {},
   "outputs": [
    {
     "data": {
      "text/plain": [
       "Profile<uuid='1a5a8d0836814a04a238c67cc7481655' name='default'>"
      ]
     },
     "execution_count": 1,
     "metadata": {},
     "output_type": "execute_result"
    }
   ],
   "source": [
    "from aiida import load_profile, orm\n",
    "from aiida_quantumespresso.workflows.pw.base import PwBaseWorkChain\n",
    "from aiida_atomistic import StructureData, StructureDataMutable\n",
    "\n",
    "load_profile()"
   ]
  },
  {
   "cell_type": "markdown",
   "metadata": {},
   "source": [
    "Once loaded the necessary modules, we start building up our `StructureDataMutable`, to be then converted into the AiiDA `StructureData` (via the `to_immutable` method):"
   ]
  },
  {
   "cell_type": "code",
   "execution_count": 2,
   "metadata": {},
   "outputs": [],
   "source": [
    "mutable_structure = StructureDataMutable()\n",
    "mutable_structure.set_cell([[0.0, 1.8, 1.8], [1.8, 0.0, 1.8], [1.8, 1.8, 0.0]])\n",
    "\n",
    "mutable_structure.add_atom({\n",
    "            'symbol':'Si',\n",
    "            'position':[1/2, 1/2, 1/2],\n",
    "            'kind_name': 'Si1'\n",
    "        })\n",
    "mutable_structure.add_atom({\n",
    "            'symbol':'Si',\n",
    "            'position':[3/4, 3/4, 3/4],\n",
    "            'kind_name': 'Si1'\n",
    "        })\n",
    "\n",
    "structure = mutable_structure.to_immutable()"
   ]
  },
  {
   "cell_type": "markdown",
   "metadata": {},
   "source": [
    "We then generate the `PwBaseWorkChain` builder via the `get_builder_from_protocol` method, providing as input the *pw.x* code node and the structure:"
   ]
  },
  {
   "cell_type": "code",
   "execution_count": 5,
   "metadata": {},
   "outputs": [
    {
     "name": "stderr",
     "output_type": "stream",
     "text": [
      "09/03/2024 09:22:58 AM <518465> aiida.orm.nodes.process.workflow.workchain.WorkChainNode: [REPORT] [1244|PwBaseWorkChain|run_process]: launching PwCalculation<1249> iteration #1\n",
      "09/03/2024 09:23:01 AM <518465> aiida.orm.nodes.process.workflow.workchain.WorkChainNode: [REPORT] [1244|PwBaseWorkChain|results]: work chain completed after 1 iterations\n",
      "09/03/2024 09:23:02 AM <518465> aiida.orm.nodes.process.workflow.workchain.WorkChainNode: [REPORT] [1244|PwBaseWorkChain|on_terminated]: remote folders will not be cleaned\n"
     ]
    }
   ],
   "source": [
    "from aiida.engine import submit, run_get_node\n",
    "\n",
    "\n",
    "builder = PwBaseWorkChain.get_builder_from_protocol(\n",
    "    code=orm.load_code(\"pw-qe-7.2@localhost\"), \n",
    "    structure=structure,\n",
    "    protocol=\"fast\",\n",
    "    )\n",
    "\n",
    "run = run_get_node(builder)"
   ]
  },
  {
   "cell_type": "markdown",
   "metadata": {},
   "source": [
    "After the job is finished, you can inspect the outputs as usual:"
   ]
  },
  {
   "cell_type": "code",
   "execution_count": 6,
   "metadata": {},
   "outputs": [
    {
     "data": {
      "text/plain": [
       "{'remote_folder': <RemoteData: uuid: 11b298fa-54b2-4929-b535-d500477f6519 (pk: 1250)>,\n",
       " 'retrieved': <FolderData: uuid: 9ad6c0a4-3a54-4de3-8cbe-15ab6b57c9f3 (pk: 1251)>,\n",
       " 'output_parameters': <Dict: uuid: 965e3507-6907-4e70-a9fe-9bb4f2769411 (pk: 1254)>,\n",
       " 'output_trajectory': <TrajectoryData: uuid: aa4c6ff9-2d31-45f4-adfb-3da14697b60c (pk: 1253)>,\n",
       " 'output_band': <BandsData: uuid: 56488f69-886e-44dd-8419-e7d6244e51c1 (pk: 1252)>}"
      ]
     },
     "execution_count": 6,
     "metadata": {},
     "output_type": "execute_result"
    }
   ],
   "source": [
    "run[0]"
   ]
  },
  {
   "cell_type": "markdown",
   "metadata": {},
   "source": [
    "## How to deal with magnetic configurations\n",
    "\n",
    "The first way to prepare a magnetic calculation is to trigger the `nspin` or `noncolin` in the input parameters of the `PwCalculation` respectively for *collinear* (`nspin=2`) and *non collinear* (`noncolin=.True.`) calculations.\n",
    "\n",
    "Of course, the magnetic moments have to be provided within the `StructureData`, so that they can be used to build the [*starting_magnetization*](https://www.quantum-espresso.org/Doc/INPUT_PW.html#idm301) variable of the `&SYSTEM` namelist.\n",
    "\n",
    "\n",
    "### Collinear case \n",
    "\n",
    "We first load the structure using Pymatgen to parse the *mcif* file for BCC Iron:"
   ]
  },
  {
   "cell_type": "code",
   "execution_count": 7,
   "metadata": {},
   "outputs": [
    {
     "name": "stdout",
     "output_type": "stream",
     "text": [
      "[[0.0, 0.0, 2.5]]\n"
     ]
    }
   ],
   "source": [
    "from pymatgen.core import Structure\n",
    "\n",
    "#suppose you are in the `aiida-atomistic` root folder\n",
    "iron_bcc = Structure.from_file('../examples/structure/data/Fe_bcc.mcif', primitive=True)\n",
    "magnetic_structure = StructureData.from_pymatgen(iron_bcc)\n",
    "\n",
    "print(magnetic_structure.properties.magmoms)"
   ]
  },
  {
   "cell_type": "code",
   "execution_count": 8,
   "metadata": {},
   "outputs": [
    {
     "data": {
      "text/plain": [
       "['Fe1']"
      ]
     },
     "execution_count": 8,
     "metadata": {},
     "output_type": "execute_result"
    }
   ],
   "source": [
    "magnetic_structure.properties.kinds"
   ]
  },
  {
   "cell_type": "markdown",
   "metadata": {},
   "source": [
    "We can check that our structure is collinear (trivial in this case):"
   ]
  },
  {
   "cell_type": "code",
   "execution_count": 9,
   "metadata": {},
   "outputs": [
    {
     "data": {
      "text/plain": [
       "True"
      ]
     },
     "execution_count": 9,
     "metadata": {},
     "output_type": "execute_result"
    }
   ],
   "source": [
    "magnetic_structure.is_collinear"
   ]
  },
  {
   "cell_type": "markdown",
   "metadata": {},
   "source": [
    "We can create again the builder as before, this time overriding `nspin` to be equal to 2 (*collinear* calculation):"
   ]
  },
  {
   "cell_type": "code",
   "execution_count": 10,
   "metadata": {},
   "outputs": [],
   "source": [
    "builder = PwBaseWorkChain.get_builder_from_protocol(\n",
    "    code=orm.load_code(\"pw-qe-7.2@localhost\"), \n",
    "    structure=magnetic_structure,\n",
    "    protocol=\"fast\",\n",
    "    overrides={\n",
    "        \"pw\":{\n",
    "            \"parameters\":{\n",
    "                \"SYSTEM\":\n",
    "                    {\"nspin\": 2}\n",
    "            }\n",
    "        }\n",
    "    }\n",
    "    )"
   ]
  },
  {
   "cell_type": "code",
   "execution_count": 11,
   "metadata": {},
   "outputs": [
    {
     "name": "stderr",
     "output_type": "stream",
     "text": [
      "09/03/2024 09:23:04 AM <518465> aiida.orm.nodes.process.workflow.workchain.WorkChainNode: [REPORT] [1261|PwBaseWorkChain|run_process]: launching PwCalculation<1266> iteration #1\n",
      "09/03/2024 09:23:12 AM <518465> aiida.orm.nodes.process.workflow.workchain.WorkChainNode: [REPORT] [1261|PwBaseWorkChain|results]: work chain completed after 1 iterations\n",
      "09/03/2024 09:23:13 AM <518465> aiida.orm.nodes.process.workflow.workchain.WorkChainNode: [REPORT] [1261|PwBaseWorkChain|on_terminated]: remote folders will not be cleaned\n"
     ]
    }
   ],
   "source": [
    "run = run_get_node(builder)"
   ]
  },
  {
   "cell_type": "markdown",
   "metadata": {},
   "source": [
    "### The output magnetic moments\n",
    "\n",
    "For now, the new output magnetization of a structure will not be stored in the output `StructureData` (if any). \n",
    "The reason is that the output magnetization can present some discrepancies which are actually artifacts of the simulation. E.g., symmetries maybe not entirely used (due to different kinds) and so magnetization magnitudes (and orientations) are not the same as expected. \n",
    "\n",
    "So, the if the user needs it, he can use a `calcfuntion` to generate a new `StructureData` with the new magnetic moments (both as list of *floats* or of len=3 *lists*):"
   ]
  },
  {
   "cell_type": "code",
   "execution_count": 12,
   "metadata": {},
   "outputs": [
    {
     "name": "stdout",
     "output_type": "stream",
     "text": [
      "[2.3254]\n"
     ]
    }
   ],
   "source": [
    "trajectory = run[-1].called[-1].outputs.output_trajectory # run[1].called[-1].outputs.output_trajectory\n",
    "magnetic_moments = [magmom[0] for magmom in trajectory.get_array('atomic_magnetic_moments')]\n",
    "print(magnetic_moments)"
   ]
  },
  {
   "cell_type": "code",
   "execution_count": 13,
   "metadata": {},
   "outputs": [
    {
     "name": "stdout",
     "output_type": "stream",
     "text": [
      "New StructureData: uuid: cb9a17be-c75a-443a-b618-31cf5c6f4b2f (pk: 1274)\n",
      "Attached magmoms: [[0.0, 0.0, 2.3254]]\n"
     ]
    }
   ],
   "source": [
    "from aiida_quantumespresso.utils.magnetic import generate_structure_with_magmoms\n",
    "\n",
    "new_structure = generate_structure_with_magmoms(magnetic_structure, magnetic_moments)\n",
    "print(f\"New StructureData: {new_structure}\\nAttached magmoms: {new_structure.properties.magmoms}\")"
   ]
  },
  {
   "cell_type": "markdown",
   "metadata": {},
   "source": [
    "If you don't want the provenance and the new `StructureData` node to be stored, add `metadata={\"store_provenance\": False}` to the input of the `calcfunction`. \n",
    "\n",
    "### Non-collinear case \n",
    "\n",
    "For the non-collinear case, we just need to put `noncolin: True` in the input parameters:"
   ]
  },
  {
   "cell_type": "code",
   "execution_count": 14,
   "metadata": {},
   "outputs": [],
   "source": [
    "builder = PwBaseWorkChain.get_builder_from_protocol(\n",
    "    code=orm.load_code(\"pw-qe-7.2@localhost\"), \n",
    "    structure=magnetic_structure,\n",
    "    protocol=\"fast\",\n",
    "    overrides={\n",
    "        \"pw\":{\n",
    "            \"parameters\":{\n",
    "                \"SYSTEM\":\n",
    "                    {\"noncolin\": True}\n",
    "            }\n",
    "        }\n",
    "    }\n",
    "    )"
   ]
  },
  {
   "cell_type": "code",
   "execution_count": 15,
   "metadata": {},
   "outputs": [
    {
     "name": "stderr",
     "output_type": "stream",
     "text": [
      "09/03/2024 09:23:14 AM <518465> aiida.orm.nodes.process.workflow.workchain.WorkChainNode: [REPORT] [1280|PwBaseWorkChain|run_process]: launching PwCalculation<1285> iteration #1\n",
      "09/03/2024 09:23:32 AM <518465> aiida.orm.nodes.process.workflow.workchain.WorkChainNode: [REPORT] [1280|PwBaseWorkChain|results]: work chain completed after 1 iterations\n",
      "09/03/2024 09:23:32 AM <518465> aiida.orm.nodes.process.workflow.workchain.WorkChainNode: [REPORT] [1280|PwBaseWorkChain|on_terminated]: remote folders will not be cleaned\n"
     ]
    }
   ],
   "source": [
    "run = run_get_node(builder)"
   ]
  },
  {
   "cell_type": "code",
   "execution_count": 16,
   "metadata": {},
   "outputs": [
    {
     "data": {
      "text/plain": [
       "{'remote_folder': <RemoteData: uuid: 812163f6-4bd2-46f0-b7fa-69f57031a00c (pk: 1286)>,\n",
       " 'retrieved': <FolderData: uuid: 2bf22387-876b-41c0-82b8-7834c43c0599 (pk: 1287)>,\n",
       " 'output_parameters': <Dict: uuid: c7a11701-1a6b-46fe-bae6-f3209b3544ca (pk: 1290)>,\n",
       " 'output_trajectory': <TrajectoryData: uuid: 040e6c97-2704-4122-bcc4-b133d9f8a0b5 (pk: 1289)>,\n",
       " 'output_band': <BandsData: uuid: 2693caf7-e783-4ac2-b4cf-bfcd7d8b4fc5 (pk: 1288)>}"
      ]
     },
     "execution_count": 16,
     "metadata": {},
     "output_type": "execute_result"
    }
   ],
   "source": [
    "run[0]"
   ]
  },
  {
   "cell_type": "markdown",
   "metadata": {},
   "source": [
    "Currently, no parser for non-collinear magnetization is implemented in the `aiida-quantumespresso` plugin."
   ]
  }
 ],
 "metadata": {
  "kernelspec": {
   "display_name": "base",
   "language": "python",
   "name": "python3"
  },
  "language_info": {
   "codemirror_mode": {
    "name": "ipython",
    "version": 3
   },
   "file_extension": ".py",
   "mimetype": "text/x-python",
   "name": "python",
   "nbconvert_exporter": "python",
   "pygments_lexer": "ipython3",
   "version": "3.10.13"
  }
 },
 "nbformat": 4,
 "nbformat_minor": 2
}
