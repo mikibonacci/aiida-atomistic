{
 "cells": [
  {
   "cell_type": "markdown",
   "metadata": {},
   "source": [
    "# Doc for kinds generation\n",
    "\n",
    "- specific thresholds\n",
    "- standard thresholds\n",
    "- example on how properties are changing (ex. classification of magmoms wrt threshold and so on)"
   ]
  },
  {
   "cell_type": "markdown",
   "metadata": {},
   "source": [
    "# Automatic kinds determination\n",
    "\n",
    "In the following we will show how it is possible to generate automatically kinds and how to specify a set of property thresholds to help the algorithm find a configuration which satisfies your needs.\n",
    "We are going to use the mutable version of the `StructureData`, for this example.\n",
    "\n",
    "NB: the automatic detection of kinds considers only `site` properties (charges, magmoms and so on), not `global` ones (e.g. pbc, hubbard and so on). For now, we exclude the `weights` property.\n",
    "\n",
    "## Explanation of the classification algorithm\n",
    "\n",
    "bla bla bla...\n",
    "\n",
    "### Ideas: what about using a K-means? "
   ]
  },
  {
   "cell_type": "code",
   "execution_count": 1,
   "metadata": {},
   "outputs": [
    {
     "data": {
      "text/plain": [
       "[[2.5, 0.0, 0.0], [2.1, 0.0, 0.0]]"
      ]
     },
     "execution_count": 1,
     "metadata": {},
     "output_type": "execute_result"
    }
   ],
   "source": [
    "from aiida import load_profile\n",
    "load_profile()\n",
    "\n",
    "from aiida_atomistic import StructureDataMutable\n",
    "\n",
    "structure_dict = {\n",
    "    'pbc': [True, True, True],\n",
    "    'cell': [\n",
    "        [2.8403, 0.0, 1.7391821518091137e-16],\n",
    "        [-1.7391821518091137e-16, 2.8403, 1.7391821518091137e-16],\n",
    "        [0.0, 0.0, 2.8403],\n",
    "        ],\n",
    "    'symbols': ['Fe', 'Fe'],\n",
    "    'positions': [[0.0, 0.0, 0.0], [1.42015, 1.42015, 1.4201500000000002]],\n",
    "    'magmoms': [[2.5, 0.0, 0.0], [2.1, 0.0, 0.0]],\n",
    "}\n",
    "\n",
    "structure = StructureDataMutable(**structure_dict)\n",
    "structure.properties.magmoms"
   ]
  },
  {
   "cell_type": "markdown",
   "metadata": {},
   "source": [
    "As we can see, this structure contains two Fe atoms with a different magnetic moment (`magmoms` property). \n",
    "This means that we can define two different kinds. \n",
    "We could do this by hands, just defining"
   ]
  },
  {
   "cell_type": "code",
   "execution_count": 2,
   "metadata": {},
   "outputs": [],
   "source": [
    "structure.properties.kinds = ['Fe1', 'Fe2']"
   ]
  },
  {
   "cell_type": "markdown",
   "metadata": {},
   "source": [
    "such that:"
   ]
  },
  {
   "cell_type": "code",
   "execution_count": 3,
   "metadata": {},
   "outputs": [
    {
     "data": {
      "text/plain": [
       "[<SiteImmutable: kind name 'Fe1' @ 0.0,0.0,0.0>,\n",
       " <SiteImmutable: kind name 'Fe2' @ 1.42015,1.42015,1.4201500000000002>]"
      ]
     },
     "execution_count": 3,
     "metadata": {},
     "output_type": "execute_result"
    }
   ],
   "source": [
    "structure.properties.sites"
   ]
  },
  {
   "cell_type": "markdown",
   "metadata": {},
   "source": [
    "or we can do it automatically. This can be done using the `get_kinds` method of the structure. Let's suppose to just generate the kinds, and not to store them in the structure (`ready_to_use=False`, the default):"
   ]
  },
  {
   "cell_type": "code",
   "execution_count": 4,
   "metadata": {},
   "outputs": [
    {
     "data": {
      "text/plain": [
       "{'kinds': ['Fe0', 'Fe1'],\n",
       " 'masses': array([55.845, 55.845]),\n",
       " 'charges': array([0., 0.]),\n",
       " 'magmoms': array([[2.5, 0. , 0. ],\n",
       "        [2.1, 0. , 0. ]]),\n",
       " 'symbols': ['Fe', 'Fe'],\n",
       " 'positions': [[0.0, 0.0, 0.0], [1.42015, 1.42015, 1.4201500000000002]]}"
      ]
     },
     "execution_count": 4,
     "metadata": {},
     "output_type": "execute_result"
    }
   ],
   "source": [
    "structure.get_kinds(ready_to_use=False)"
   ]
  },
  {
   "cell_type": "markdown",
   "metadata": {},
   "source": [
    "We find indeed two kinds. This are obtained considering a default threshold for the magnetic moments (for each element of the magmom vector):"
   ]
  },
  {
   "cell_type": "code",
   "execution_count": 5,
   "metadata": {},
   "outputs": [
    {
     "data": {
      "text/plain": [
       "{'charges': 0.1, 'masses': 0.0001, 'magmoms': 0.0001}"
      ]
     },
     "execution_count": 5,
     "metadata": {},
     "output_type": "execute_result"
    }
   ],
   "source": [
    "from aiida_atomistic.data.structure.mixin import _DEFAULT_THRESHOLDS\n",
    "\n",
    "_DEFAULT_THRESHOLDS"
   ]
  },
  {
   "cell_type": "markdown",
   "metadata": {},
   "source": [
    "we see that for magmoms, the threshold is 1e-4 for each component. \n",
    "\n",
    "## Defining custom thresholds for the properties\n",
    "\n",
    "We can provide a custom threshold to the `get_kinds` method. Let's suppose to impose a large threshold, so that we find only one kind. This can be done easily:"
   ]
  },
  {
   "cell_type": "code",
   "execution_count": 6,
   "metadata": {},
   "outputs": [
    {
     "data": {
      "text/plain": [
       "{'kinds': ['Fe0', 'Fe0'],\n",
       " 'masses': array([55.845, 55.845]),\n",
       " 'charges': array([0., 0.]),\n",
       " 'magmoms': array([[2.5, 0. , 0. ],\n",
       "        [2.5, 0. , 0. ]]),\n",
       " 'symbols': ['Fe', 'Fe'],\n",
       " 'positions': [[0.0, 0.0, 0.0], [1.42015, 1.42015, 1.4201500000000002]]}"
      ]
     },
     "execution_count": 6,
     "metadata": {},
     "output_type": "execute_result"
    }
   ],
   "source": [
    "structure.get_kinds(custom_thr={'magmoms': 0.5},ready_to_use=False)"
   ]
  },
  {
   "cell_type": "markdown",
   "metadata": {},
   "source": [
    "We find indeed only one kind. Moreover, we see that the magmoms values is now the same, indeed indicating that they are of the same kind. This value is chosen to be the upper value of the given box in the property space.\n",
    "\n",
    "This works also for multiple properties at the same time. Let's suppose to have also charges:"
   ]
  },
  {
   "cell_type": "code",
   "execution_count": 7,
   "metadata": {},
   "outputs": [],
   "source": [
    "structure.properties.charges = [+1,-1]"
   ]
  },
  {
   "cell_type": "markdown",
   "metadata": {},
   "source": [
    "We then compute again the kinds"
   ]
  },
  {
   "cell_type": "code",
   "execution_count": 8,
   "metadata": {},
   "outputs": [
    {
     "data": {
      "text/plain": [
       "{'kinds': ['Fe0', 'Fe1'],\n",
       " 'masses': array([55.845, 55.845]),\n",
       " 'charges': array([ 1., -1.]),\n",
       " 'magmoms': array([[2.5, 0. , 0. ],\n",
       "        [2.5, 0. , 0. ]]),\n",
       " 'symbols': ['Fe', 'Fe'],\n",
       " 'positions': [[0.0, 0.0, 0.0], [1.42015, 1.42015, 1.4201500000000002]]}"
      ]
     },
     "execution_count": 8,
     "metadata": {},
     "output_type": "execute_result"
    }
   ],
   "source": [
    "structure.get_kinds(custom_thr={'magmoms': 0.5},ready_to_use=False)"
   ]
  },
  {
   "cell_type": "markdown",
   "metadata": {},
   "source": [
    "which is correct: the `magmoms` are found to be the same (withing the large imposed threshold), whereas the `charges` are not (the default value si `0.1`), so we have again two kinds. \n",
    "Let's try to play also with the `charges` threshold:"
   ]
  },
  {
   "cell_type": "code",
   "execution_count": 9,
   "metadata": {},
   "outputs": [
    {
     "data": {
      "text/plain": [
       "{'kinds': ['Fe0', 'Fe0'],\n",
       " 'masses': array([55.845, 55.845]),\n",
       " 'charges': array([1., 1.]),\n",
       " 'magmoms': array([[2.5, 0. , 0. ],\n",
       "        [2.5, 0. , 0. ]]),\n",
       " 'symbols': ['Fe', 'Fe'],\n",
       " 'positions': [[0.0, 0.0, 0.0], [1.42015, 1.42015, 1.4201500000000002]]}"
      ]
     },
     "execution_count": 9,
     "metadata": {},
     "output_type": "execute_result"
    }
   ],
   "source": [
    "structure.get_kinds(custom_thr={'magmoms': 0.5, 'charges':2.5},ready_to_use=False)"
   ]
  },
  {
   "cell_type": "markdown",
   "metadata": {},
   "source": [
    "again, one kind.\n",
    "\n",
    "## Excluding some properties in the kinds determination\n",
    "\n",
    "It is also possible to ignore some property in the kinds determination. This should be used with particular attention, as using directly its results can lead to inconsistencies in calculations. To exclude a property in the analysis, we can just put it in the `exclude` input `list`:"
   ]
  },
  {
   "cell_type": "code",
   "execution_count": 10,
   "metadata": {},
   "outputs": [
    {
     "data": {
      "text/plain": [
       "{'kinds': ['Fe0', 'Fe1'],\n",
       " 'masses': array([55.845, 55.845]),\n",
       " 'charges': array([ 1., -1.]),\n",
       " 'symbols': ['Fe', 'Fe'],\n",
       " 'positions': [[0.0, 0.0, 0.0], [1.42015, 1.42015, 1.4201500000000002]]}"
      ]
     },
     "execution_count": 10,
     "metadata": {},
     "output_type": "execute_result"
    }
   ],
   "source": [
    "structure.get_kinds(exclude=[\"magmoms\"],ready_to_use=False)"
   ]
  },
  {
   "cell_type": "code",
   "execution_count": 11,
   "metadata": {},
   "outputs": [
    {
     "data": {
      "text/plain": [
       "{'kinds': ['Fe0', 'Fe1'],\n",
       " 'masses': array([55.845, 55.845]),\n",
       " 'charges': array([ 1., -1.]),\n",
       " 'symbols': ['Fe', 'Fe'],\n",
       " 'positions': [[0.0, 0.0, 0.0], [1.42015, 1.42015, 1.4201500000000002]]}"
      ]
     },
     "execution_count": 11,
     "metadata": {},
     "output_type": "execute_result"
    }
   ],
   "source": [
    "structure.get_kinds(exclude=[\"magmoms\"])"
   ]
  },
  {
   "cell_type": "markdown",
   "metadata": {},
   "source": [
    "## Automatically updating the kinds for a given (mutable) `StructureData`\n",
    "\n",
    "We provide a method, the `set_automatic_kinds`, which allows you to basically update a structure by means of the automatic kinds generation:"
   ]
  },
  {
   "cell_type": "code",
   "execution_count": 15,
   "metadata": {},
   "outputs": [
    {
     "data": {
      "text/plain": [
       "['Fe0', 'Fe1']"
      ]
     },
     "execution_count": 15,
     "metadata": {},
     "output_type": "execute_result"
    }
   ],
   "source": [
    "structure.set_automatic_kinds(exclude=[],custom_thr={})\n",
    "structure.properties.kinds"
   ]
  }
 ],
 "metadata": {
  "kernelspec": {
   "display_name": "base",
   "language": "python",
   "name": "python3"
  },
  "language_info": {
   "codemirror_mode": {
    "name": "ipython",
    "version": 3
   },
   "file_extension": ".py",
   "mimetype": "text/x-python",
   "name": "python",
   "nbconvert_exporter": "python",
   "pygments_lexer": "ipython3",
   "version": "3.10.13"
  }
 },
 "nbformat": 4,
 "nbformat_minor": 2
}
