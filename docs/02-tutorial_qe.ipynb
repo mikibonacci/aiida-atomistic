{
 "cells": [
  {
   "cell_type": "markdown",
   "metadata": {},
   "source": [
    "---\n",
    "title: How to submit a PwBaseWorkChain \n",
    "subtitle: \n",
    "#author:\n",
    "#  - name: Miki Bonacci\n",
    "    #affiliations: Executable Books; Curvenote\n",
    "    #orcid: 0000-0002-7859-8394\n",
    "#    email: miki.bonacci@psi.ch\n",
    "license:\n",
    "  code: MIT\n",
    "#date: 2023/01/23\n",
    "---\n",
    "\n",
    "In the following we show how to run a calculation with the `aiida-quantumespresso` plugin using the new *atomistic* `StructureData`. \n",
    "The procedure is very similar to the [old way](https://aiida-quantumespresso.readthedocs.io/en/latest/tutorials/first_pw.html), except to the fact that now properties like magnetization and charge are provided within the structure\n",
    "and not in the input parameters of the `PwCalculation`.\n",
    "\n",
    "***For now, only magnetization is supported.***\n",
    "\n",
    "***TO MAKE IT WORK, PLEASE USE THE FOLLOWING VERSIONS OF THE RELATED CODES:***\n",
    "\n",
    "- aiida-core: [new_StructureData branch](https://github.com/mikibonacci/aiida-core/tree/new_StructureData)\n",
    "- aiida-quantumespresso: [new_StructureData branch](https://github.com/mikibonacci/aiida-quantumespresso/tree/new_StructureData)\n",
    "- aiida-pseudo: [new_StructureData branch](https://github.com/mikibonacci/aiida-pseudo/tree/new_StructureData)"
   ]
  },
  {
   "cell_type": "code",
   "execution_count": 1,
   "metadata": {},
   "outputs": [
    {
     "data": {
      "text/plain": [
       "Profile<uuid='1a5a8d0836814a04a238c67cc7481655' name='default'>"
      ]
     },
     "execution_count": 1,
     "metadata": {},
     "output_type": "execute_result"
    }
   ],
   "source": [
    "from aiida import load_profile, orm\n",
    "from aiida_quantumespresso.workflows.pw.base import PwBaseWorkChain\n",
    "from aiida_atomistic import StructureData, StructureDataMutable\n",
    "\n",
    "load_profile()"
   ]
  },
  {
   "cell_type": "markdown",
   "metadata": {},
   "source": [
    "Once loaded the necessary modules, we start building up our `StructureDataMutable`, to be then converted into the AiiDA `StructureData` (via the `to_immutable` method):"
   ]
  },
  {
   "cell_type": "code",
   "execution_count": 2,
   "metadata": {},
   "outputs": [],
   "source": [
    "mutable_structure = StructureDataMutable()\n",
    "mutable_structure.set_cell([[0.0, 1.8, 1.8], [1.8, 0.0, 1.8], [1.8, 1.8, 0.0]])\n",
    "\n",
    "mutable_structure.add_atom({\n",
    "            'symbol':'Si',\n",
    "            'position':[1/2, 1/2, 1/2],\n",
    "            'kind_name': 'Si1'\n",
    "        })\n",
    "mutable_structure.add_atom({\n",
    "            'symbol':'Si',\n",
    "            'position':[3/4, 3/4, 3/4],\n",
    "            'kind_name': 'Si1'\n",
    "        })\n",
    "\n",
    "structure = mutable_structure.to_immutable()"
   ]
  },
  {
   "cell_type": "markdown",
   "metadata": {},
   "source": [
    "We then generate the `PwBaseWorkChain` builder via the `get_builder_from_protocol` method, providing as input the *pw.x* code node and the structure:"
   ]
  },
  {
   "cell_type": "code",
   "execution_count": 3,
   "metadata": {},
   "outputs": [
    {
     "name": "stderr",
     "output_type": "stream",
     "text": [
      "09/03/2024 09:41:36 AM <533575> aiida.orm.nodes.process.workflow.workchain.WorkChainNode: [REPORT] [1297|PwBaseWorkChain|run_process]: launching PwCalculation<1302> iteration #1\n",
      "09/03/2024 09:41:40 AM <533575> aiida.orm.nodes.process.workflow.workchain.WorkChainNode: [REPORT] [1297|PwBaseWorkChain|results]: work chain completed after 1 iterations\n",
      "09/03/2024 09:41:40 AM <533575> aiida.orm.nodes.process.workflow.workchain.WorkChainNode: [REPORT] [1297|PwBaseWorkChain|on_terminated]: remote folders will not be cleaned\n"
     ]
    }
   ],
   "source": [
    "from aiida.engine import submit, run_get_node\n",
    "\n",
    "\n",
    "builder = PwBaseWorkChain.get_builder_from_protocol(\n",
    "    code=orm.load_code(\"pw-qe-7.2@localhost\"), \n",
    "    structure=structure,\n",
    "    protocol=\"fast\",\n",
    "    )\n",
    "\n",
    "run = run_get_node(builder)"
   ]
  },
  {
   "cell_type": "markdown",
   "metadata": {},
   "source": [
    "After the job is finished, you can inspect the outputs as usual:"
   ]
  },
  {
   "cell_type": "code",
   "execution_count": 4,
   "metadata": {},
   "outputs": [
    {
     "data": {
      "text/plain": [
       "{'remote_folder': <RemoteData: uuid: bd399913-0e71-447a-8c53-6287970ebd70 (pk: 1303)>,\n",
       " 'retrieved': <FolderData: uuid: b7264589-2311-4dad-aeb4-e270acc7a02b (pk: 1304)>,\n",
       " 'output_parameters': <Dict: uuid: c46461bc-469c-461b-ade5-21bcc95c8890 (pk: 1307)>,\n",
       " 'output_trajectory': <TrajectoryData: uuid: d2f366b0-ded0-4f2b-a3a8-e7b1f26798c8 (pk: 1306)>,\n",
       " 'output_band': <BandsData: uuid: 79d9187c-b3ca-4c31-85b0-2c79cb145a37 (pk: 1305)>}"
      ]
     },
     "execution_count": 4,
     "metadata": {},
     "output_type": "execute_result"
    }
   ],
   "source": [
    "run[0]"
   ]
  },
  {
   "cell_type": "markdown",
   "metadata": {},
   "source": [
    "## How to deal with magnetic configurations\n",
    "\n",
    "The first way to prepare a magnetic calculation is to trigger the `nspin` or `noncolin` in the input parameters of the `PwCalculation` respectively for *collinear* (`nspin=2`) and *non collinear* (`noncolin=.True.`) calculations.\n",
    "\n",
    "Of course, the magnetic moments have to be provided within the `StructureData`, so that they can be used to build the [*starting_magnetization*](https://www.quantum-espresso.org/Doc/INPUT_PW.html#idm301) variable of the `&SYSTEM` namelist.\n",
    "\n",
    "\n",
    "### Collinear case \n",
    "\n",
    "We first load the structure using Pymatgen to parse the *mcif* file for BCC Iron:"
   ]
  },
  {
   "cell_type": "code",
   "execution_count": 5,
   "metadata": {},
   "outputs": [
    {
     "name": "stdout",
     "output_type": "stream",
     "text": [
      "[[0.0, 0.0, 2.5]]\n"
     ]
    }
   ],
   "source": [
    "from pymatgen.core import Structure\n",
    "\n",
    "#suppose you are in the `aiida-atomistic` root folder\n",
    "iron_bcc = Structure.from_file('../examples/structure/data/Fe_bcc.mcif', primitive=True)\n",
    "magnetic_structure = StructureData.from_pymatgen(iron_bcc)\n",
    "\n",
    "print(magnetic_structure.properties.magmoms)"
   ]
  },
  {
   "cell_type": "code",
   "execution_count": 6,
   "metadata": {},
   "outputs": [
    {
     "data": {
      "text/plain": [
       "['Fe1']"
      ]
     },
     "execution_count": 6,
     "metadata": {},
     "output_type": "execute_result"
    }
   ],
   "source": [
    "magnetic_structure.properties.kinds"
   ]
  },
  {
   "cell_type": "markdown",
   "metadata": {},
   "source": [
    "We can check that our structure is collinear (trivial in this case):"
   ]
  },
  {
   "cell_type": "code",
   "execution_count": 7,
   "metadata": {},
   "outputs": [
    {
     "data": {
      "text/plain": [
       "True"
      ]
     },
     "execution_count": 7,
     "metadata": {},
     "output_type": "execute_result"
    }
   ],
   "source": [
    "magnetic_structure.is_collinear"
   ]
  },
  {
   "cell_type": "markdown",
   "metadata": {},
   "source": [
    "We can create again the builder as before, this time overriding `nspin` to be equal to 2 (*collinear* calculation):"
   ]
  },
  {
   "cell_type": "code",
   "execution_count": 8,
   "metadata": {},
   "outputs": [],
   "source": [
    "builder = PwBaseWorkChain.get_builder_from_protocol(\n",
    "    code=orm.load_code(\"pw-qe-7.2@localhost\"), \n",
    "    structure=magnetic_structure,\n",
    "    protocol=\"fast\",\n",
    "    overrides={\n",
    "        \"pw\":{\n",
    "            \"parameters\":{\n",
    "                \"SYSTEM\":\n",
    "                    {\"nspin\": 2}\n",
    "            }\n",
    "        }\n",
    "    }\n",
    "    )"
   ]
  },
  {
   "cell_type": "code",
   "execution_count": 9,
   "metadata": {},
   "outputs": [
    {
     "name": "stderr",
     "output_type": "stream",
     "text": [
      "09/03/2024 09:41:42 AM <533575> aiida.orm.nodes.process.workflow.workchain.WorkChainNode: [REPORT] [1314|PwBaseWorkChain|run_process]: launching PwCalculation<1319> iteration #1\n",
      "09/03/2024 09:41:51 AM <533575> aiida.orm.nodes.process.workflow.workchain.WorkChainNode: [REPORT] [1314|PwBaseWorkChain|results]: work chain completed after 1 iterations\n",
      "09/03/2024 09:41:51 AM <533575> aiida.orm.nodes.process.workflow.workchain.WorkChainNode: [REPORT] [1314|PwBaseWorkChain|on_terminated]: remote folders will not be cleaned\n"
     ]
    }
   ],
   "source": [
    "run = run_get_node(builder)"
   ]
  },
  {
   "cell_type": "markdown",
   "metadata": {},
   "source": [
    "### The output magnetic moments\n",
    "\n",
    "For now, the new output magnetization of a structure will not be stored in the output `StructureData` (if any). \n",
    "The reason is that the output magnetization can present some discrepancies which are actually artifacts of the simulation. E.g., symmetries maybe not entirely used (due to different kinds) and so magnetization magnitudes (and orientations) are not the same as expected. \n",
    "\n",
    "So, the if the user needs it, he can use a `calcfuntion` to generate a new `StructureData` with the new magnetic moments (both as list of *floats* or of len=3 *lists*):"
   ]
  },
  {
   "cell_type": "code",
   "execution_count": 10,
   "metadata": {},
   "outputs": [
    {
     "name": "stdout",
     "output_type": "stream",
     "text": [
      "[2.3254]\n"
     ]
    }
   ],
   "source": [
    "trajectory = run[-1].called[-1].outputs.output_trajectory # run[1].called[-1].outputs.output_trajectory\n",
    "magnetic_moments = [magmom[0] for magmom in trajectory.get_array('atomic_magnetic_moments')]\n",
    "print(magnetic_moments)"
   ]
  },
  {
   "cell_type": "code",
   "execution_count": 11,
   "metadata": {},
   "outputs": [
    {
     "name": "stdout",
     "output_type": "stream",
     "text": [
      "New StructureData: uuid: ccd7f6ab-22d6-4677-9294-2f2e51973c47 (pk: 1327)\n",
      "Attached magmoms: [[0.0, 0.0, 2.3254]]\n"
     ]
    }
   ],
   "source": [
    "from aiida_quantumespresso.utils.magnetic import generate_structure_with_magmoms\n",
    "\n",
    "new_structure = generate_structure_with_magmoms(magnetic_structure, magnetic_moments)\n",
    "print(f\"New StructureData: {new_structure}\\nAttached magmoms: {new_structure.properties.magmoms}\")"
   ]
  },
  {
   "cell_type": "markdown",
   "metadata": {},
   "source": [
    "If you don't want the provenance and the new `StructureData` node to be stored, add `metadata={\"store_provenance\": False}` to the input of the `calcfunction`. \n",
    "\n",
    "### Non-collinear case \n",
    "\n",
    "For the non-collinear case, we just need to put `noncolin: True` in the input parameters:"
   ]
  },
  {
   "cell_type": "code",
   "execution_count": 12,
   "metadata": {},
   "outputs": [],
   "source": [
    "builder = PwBaseWorkChain.get_builder_from_protocol(\n",
    "    code=orm.load_code(\"pw-qe-7.2@localhost\"), \n",
    "    structure=magnetic_structure,\n",
    "    protocol=\"fast\",\n",
    "    overrides={\n",
    "        \"pw\":{\n",
    "            \"parameters\":{\n",
    "                \"SYSTEM\":\n",
    "                    {\"noncolin\": True}\n",
    "            }\n",
    "        }\n",
    "    }\n",
    "    )"
   ]
  },
  {
   "cell_type": "code",
   "execution_count": 13,
   "metadata": {},
   "outputs": [
    {
     "name": "stderr",
     "output_type": "stream",
     "text": [
      "09/03/2024 09:41:53 AM <533575> aiida.orm.nodes.process.workflow.workchain.WorkChainNode: [REPORT] [1333|PwBaseWorkChain|run_process]: launching PwCalculation<1338> iteration #1\n",
      "09/03/2024 09:42:10 AM <533575> aiida.orm.nodes.process.workflow.workchain.WorkChainNode: [REPORT] [1333|PwBaseWorkChain|results]: work chain completed after 1 iterations\n",
      "09/03/2024 09:42:11 AM <533575> aiida.orm.nodes.process.workflow.workchain.WorkChainNode: [REPORT] [1333|PwBaseWorkChain|on_terminated]: remote folders will not be cleaned\n"
     ]
    }
   ],
   "source": [
    "run = run_get_node(builder)"
   ]
  },
  {
   "cell_type": "code",
   "execution_count": 14,
   "metadata": {},
   "outputs": [
    {
     "data": {
      "text/plain": [
       "{'remote_folder': <RemoteData: uuid: 817fef82-67a1-4878-8433-a7659101a43e (pk: 1339)>,\n",
       " 'retrieved': <FolderData: uuid: 820be53b-bfb6-49df-937f-b27ae287becf (pk: 1340)>,\n",
       " 'output_parameters': <Dict: uuid: 4d431f19-349d-4d6b-8b4a-878a43976647 (pk: 1343)>,\n",
       " 'output_trajectory': <TrajectoryData: uuid: d72b6842-aeea-4b5d-96bb-514aa93424ae (pk: 1342)>,\n",
       " 'output_band': <BandsData: uuid: f75ce733-cd14-416a-b2e7-3f9b669e43e5 (pk: 1341)>}"
      ]
     },
     "execution_count": 14,
     "metadata": {},
     "output_type": "execute_result"
    }
   ],
   "source": [
    "run[0]"
   ]
  },
  {
   "cell_type": "markdown",
   "metadata": {},
   "source": [
    "Currently, no parser for non-collinear magnetization is implemented in the `aiida-quantumespresso` plugin."
   ]
  }
 ],
 "metadata": {
  "kernelspec": {
   "display_name": "base",
   "language": "python",
   "name": "python3"
  },
  "language_info": {
   "codemirror_mode": {
    "name": "ipython",
    "version": 3
   },
   "file_extension": ".py",
   "mimetype": "text/x-python",
   "name": "python",
   "nbconvert_exporter": "python",
   "pygments_lexer": "ipython3",
   "version": "3.10.13"
  }
 },
 "nbformat": 4,
 "nbformat_minor": 2
}
