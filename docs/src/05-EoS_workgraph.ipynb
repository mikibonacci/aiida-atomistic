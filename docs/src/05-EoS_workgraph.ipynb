{
 "cells": [
  {
   "cell_type": "markdown",
   "metadata": {},
   "source": [
    "# Equation of State for bulk Silicon\n",
    "\n",
    "In the following we show how to run the Equation of States (EoS) for Silicon, using the atomistic `StructureData` as input. \n",
    "We build up the workflow using the [`aiida-workgraph`](https://github.com/aiidateam/aiida-workgraph) package, adapting the EoS `WorkGraph` from the [`workgraph-collections`](https://github.com/superstar54/workgraph-collections/blob/main/workgraph_collections/common/eos.py#L7) and using the [Silicon example](https://workgraph-collections.readthedocs.io/en/latest/qe/eos.html#Example:-Silicon) as reference."
   ]
  },
  {
   "cell_type": "code",
   "execution_count": 1,
   "metadata": {},
   "outputs": [
    {
     "data": {
      "text/plain": [
       "Profile<uuid='1a5a8d0836814a04a238c67cc7481655' name='default'>"
      ]
     },
     "execution_count": 1,
     "metadata": {},
     "output_type": "execute_result"
    }
   ],
   "source": [
    "from aiida import load_profile, orm\n",
    "\n",
    "from aiida_workgraph import task, WorkGraph\n",
    "\n",
    "\n",
    "from aiida_quantumespresso.workflows.pw.base import PwBaseWorkChain\n",
    "from aiida_atomistic import StructureData, StructureDataMutable\n",
    "\n",
    "load_profile()"
   ]
  },
  {
   "cell_type": "markdown",
   "metadata": {},
   "source": [
    "Let's define the functions to rescale the structure and then to fit the EoS (we refer to the original functions [here](https://github.com/superstar54/workgraph-collections/blob/main/workgraph_collections/common/eos.py#L7):"
   ]
  },
  {
   "cell_type": "code",
   "execution_count": 2,
   "metadata": {},
   "outputs": [],
   "source": [
    "# explicitly define the output socket name to match the return value of the function\n",
    "@task.calcfunction(outputs=[{\"name\": \"structures\"}, {\"name\": \"volumes\"}])\n",
    "def scale_structure(structure: StructureData, scales: list):\n",
    "    \"\"\"Scale the structure by the given scales.\"\"\"\n",
    "    atoms = structure.to_ase()\n",
    "    volumes = {}\n",
    "    structures = {}\n",
    "    for i in range(len(scales)):\n",
    "        atoms1 = atoms.copy()\n",
    "        atoms1.set_cell(atoms.cell * scales[i], scale_atoms=True)\n",
    "        structure = StructureData.from_ase(atoms1)\n",
    "        structures[f\"s_{i}\"] = structure\n",
    "        volumes[f\"s_{i}\"] = structure.properties.cell_volume\n",
    "    return {\"structures\": structures, \"volumes\": orm.Dict(volumes)}\n",
    "\n",
    "\n",
    "@task.calcfunction()\n",
    "# because this is a calcfunction, and the input scf_outputs are dynamic, we need use **scf_outputs.\n",
    "def fit_eos(volumes: dict = None, **scf_outputs):\n",
    "    \"\"\"Fit the EOS of the data.\"\"\"\n",
    "    from ase.eos import EquationOfState\n",
    "    from ase.units import kJ\n",
    "\n",
    "    volumes_list = []\n",
    "    energies = []\n",
    "    for key, data in scf_outputs.items():\n",
    "        unit = data.dict.energy_units\n",
    "        energy = data.dict.energy\n",
    "        if unit == \"a.u.\":  # convert to eV\n",
    "            energy = energy * 27.21138602\n",
    "        energies.append(energy)\n",
    "        volumes_list.append(volumes.get_dict()[key])\n",
    "    #\n",
    "    eos = EquationOfState(volumes_list, energies)\n",
    "    v0, e0, B = eos.fit()\n",
    "    # convert B to GPa\n",
    "    B = B / kJ * 1.0e24\n",
    "    eos = orm.Dict({\"energy unit\": \"eV\", \"v0\": v0, \"e0\": e0, \"B\": B})\n",
    "    return eos"
   ]
  },
  {
   "cell_type": "markdown",
   "metadata": {},
   "source": [
    ":::{note}\n",
    "With respect to the original function, the main change is to assign the `pseudos` inside the loop in the `all_scf` task: indeed, when we generate the scaled `StructureData`s, the kinds are detected again and they assume the `Si0` value, which does not coincide with the initial `Si`. We can also untrigger this just setting `detect_kinds=False` in the `scale_structure`: \n",
    "\n",
    "```\n",
    "def scale_structure(structure: StructureData, scales: list):\n",
    "...\n",
    "    structure = StructureData.from_ase(atoms1, detect_kinds=False)\n",
    "...\n",
    "```\n",
    ":::"
   ]
  },
  {
   "cell_type": "markdown",
   "metadata": {},
   "source": [
    "Then we [build](https://github.com/superstar54/workgraph-collections/blob/main/workgraph_collections/qe/eos.py) the `WorkGraph`:"
   ]
  },
  {
   "cell_type": "code",
   "execution_count": 3,
   "metadata": {},
   "outputs": [],
   "source": [
    "# Output result from context to the output socket\n",
    "@task.graph_builder(outputs=[{\"name\": \"result\", \"from\": \"context.result\"}])\n",
    "def all_scf(structures, scf_inputs, pseudo_family_name=\"SSSP/1.3/PBEsol/efficiency\"):\n",
    "    \"\"\"Run the scf calculation for each structure.\"\"\"\n",
    "    from aiida_workgraph import WorkGraph\n",
    "    from aiida_quantumespresso.calculations.pw import PwCalculation\n",
    "\n",
    "    wg = WorkGraph()\n",
    "    for key, structure in structures.items():\n",
    "        \n",
    "        pseudo_family = orm.load_group(pseudo_family_name)\n",
    "        scf_inputs[\"pseudos\"] = pseudo_family.get_pseudos(structure=structure)\n",
    "        \n",
    "        scf = wg.tasks.new(PwCalculation, name=f\"scf_{key}\", structure=structure)\n",
    "        scf.set(scf_inputs)\n",
    "        # save the output parameters to the context\n",
    "        scf.set_context({\"output_parameters\": f\"result.{key}\"})\n",
    "    return wg\n",
    "\n",
    "\n",
    "@task.graph_builder(outputs=[{\"name\": \"result\", \"from\": \"fit_eos.result\"}])\n",
    "def eos_workgraph(\n",
    "    structure: StructureData = None,\n",
    "    code: orm.Code = None,\n",
    "    scales: list = None,\n",
    "    parameters: dict = None,\n",
    "    kpoints: orm.KpointsData = None,\n",
    "    pseudo_family_name: str = \"SSSP/1.3/PBEsol/efficiency\",\n",
    "    metadata: dict = None,\n",
    "):\n",
    "    \"\"\"Workgraph for EOS calculation.\n",
    "    1. Get the scaled structures.\n",
    "    2. Run the SCF calculation for each scaled structure.\n",
    "    3. Fit the EOS.\n",
    "    \"\"\"\n",
    "    wg = WorkGraph(\"EOS\")\n",
    "    scale_structure1 = wg.tasks.new(\n",
    "        scale_structure, name=\"scale_structure\", structure=structure, scales=scales\n",
    "    )\n",
    "    \n",
    "\n",
    "\n",
    "    all_scf1 = wg.tasks.new(\n",
    "        all_scf,\n",
    "        name=\"all_scf\",\n",
    "        structures=scale_structure1.outputs[\"structures\"],\n",
    "        scf_inputs={\n",
    "            \"code\": code,\n",
    "            \"parameters\": orm.Dict(parameters),\n",
    "            \"kpoints\": kpoints,\n",
    "            \"metadata\": metadata,\n",
    "        },\n",
    "    )\n",
    "    wg.tasks.new(\n",
    "        fit_eos,\n",
    "        name=\"fit_eos\",\n",
    "        volumes=scale_structure1.outputs[\"volumes\"],\n",
    "        scf_outputs=all_scf1.outputs[\"result\"],\n",
    "    )\n",
    "    return wg"
   ]
  },
  {
   "cell_type": "markdown",
   "metadata": {},
   "source": [
    "Then we build the structure and we initialise the workgraph:"
   ]
  },
  {
   "cell_type": "code",
   "execution_count": 4,
   "metadata": {},
   "outputs": [],
   "source": [
    "from ase.build import bulk\n",
    "\n",
    "ase_silicon = bulk(\"Si\")\n",
    "\n",
    "structure = StructureData.from_ase(ase_silicon)"
   ]
  },
  {
   "cell_type": "code",
   "execution_count": 5,
   "metadata": {},
   "outputs": [],
   "source": [
    "parameters = {\n",
    "    \"CONTROL\": {\n",
    "        \"calculation\": \"scf\",\n",
    "    },\n",
    "    \"SYSTEM\": {\n",
    "        \"ecutwfc\": 30,\n",
    "        \"ecutrho\": 240,\n",
    "        \"occupations\": \"smearing\",\n",
    "        \"smearing\": \"gaussian\",\n",
    "        \"degauss\": 0.1,\n",
    "    },\n",
    "}\n",
    "\n",
    "\n",
    "kpoints = orm.KpointsData()\n",
    "kpoints.set_kpoints_mesh([3, 3, 3])\n",
    "\n",
    "#\n",
    "metadata = {\n",
    "    \"options\": {\n",
    "        \"resources\": {\n",
    "            \"num_machines\": 1,\n",
    "            \"num_mpiprocs_per_machine\": 1,\n",
    "        },\n",
    "    }\n",
    "}"
   ]
  },
  {
   "cell_type": "code",
   "execution_count": 6,
   "metadata": {},
   "outputs": [],
   "source": [
    "wg = eos_workgraph(\n",
    "    structure = structure,\n",
    "    code = orm.load_code(\"pw-qe-7.2@localhost\"),\n",
    "    scales = [0.98+i/100 for i in range(5)],\n",
    "    parameters=parameters,\n",
    "    kpoints=kpoints,\n",
    "    pseudo_family_name=\"SSSP/1.3/PBEsol/efficiency\",\n",
    "    metadata=metadata,\n",
    ")"
   ]
  },
  {
   "cell_type": "code",
   "execution_count": 7,
   "metadata": {},
   "outputs": [
    {
     "name": "stdout",
     "output_type": "stream",
     "text": [
      "WorkGraph process created, PK: 2198\n"
     ]
    },
    {
     "data": {
      "text/plain": [
       "<WorkChainNode: uuid: c445becb-1c9f-4aa1-b20e-453a1f2e0fbc (pk: 2198) (aiida.workflows:workgraph.engine)>"
      ]
     },
     "execution_count": 7,
     "metadata": {},
     "output_type": "execute_result"
    }
   ],
   "source": [
    "wg.submit()"
   ]
  },
  {
   "cell_type": "code",
   "execution_count": 9,
   "metadata": {},
   "outputs": [
    {
     "name": "stdout",
     "output_type": "stream",
     "text": [
      "\n",
      "Result: \n",
      "B: 83.930472219935\n",
      "v0: 40.947349586556\n",
      "e0: -308.18973212512\n",
      "v0: 40.947349586556\n"
     ]
    }
   ],
   "source": [
    "#------------------------- Print the output -------------------------\n",
    "data = orm.load_node(wg.pk).called[-1].outputs.result.get_dict()\n",
    "print('\\nResult: \\nB: {B}\\nv0: {v0}\\ne0: {e0}\\nv0: {v0}'.format(**data))"
   ]
  }
 ],
 "metadata": {
  "kernelspec": {
   "display_name": "base",
   "language": "python",
   "name": "python3"
  },
  "language_info": {
   "codemirror_mode": {
    "name": "ipython",
    "version": 3
   },
   "file_extension": ".py",
   "mimetype": "text/x-python",
   "name": "python",
   "nbconvert_exporter": "python",
   "pygments_lexer": "ipython3",
   "version": "3.10.13"
  }
 },
 "nbformat": 4,
 "nbformat_minor": 2
}
