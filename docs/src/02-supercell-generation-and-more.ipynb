{
 "cells": [
  {
   "cell_type": "markdown",
   "metadata": {},
   "source": [
    "# Building structures\n",
    "\n",
    "In the following we show examples on how to generate some complex structures like surfaces, supercells, heterostructures.\n",
    "Basically, we rely on already well established libraries (ASE, Pymatgen) to build up the structure and attach some properties, and then we generate the `StructureDataMutable`.\n",
    "\n",
    "## Surfaces \n",
    "\n",
    "The first examples is a simple Al(111) surface with an adsorbed H atom on top. We follow the [ASE example](https://wiki.fysik.dtu.dk/ase/ase/build/surface.html). Moreover, we want to have our adsorbed H with +1 charge."
   ]
  },
  {
   "cell_type": "code",
   "execution_count": 24,
   "metadata": {},
   "outputs": [],
   "source": [
    "from aiida import load_profile\n",
    "load_profile()\n",
    "\n",
    "from aiida_atomistic import StructureData, StructureDataMutable\n",
    "\n",
    "from ase.build import fcc111, add_adsorbate\n",
    "\n",
    "slab = fcc111('Al', size=(2,2,3))\n",
    "add_adsorbate(slab, 'H', 1.5, 'ontop')\n",
    "\n",
    "slab.set_initial_charges([0]*(len(slab)-1)+[1])\n",
    "\n",
    "slab.center(vacuum=10.0, axis=2)"
   ]
  },
  {
   "cell_type": "markdown",
   "metadata": {},
   "source": [
    "Then, we can transform it into our `StructureDataMutable`:"
   ]
  },
  {
   "cell_type": "code",
   "execution_count": 25,
   "metadata": {},
   "outputs": [
    {
     "data": {
      "text/plain": [
       "[<SiteImmutable: kind name 'Al0' @ 1.4318912319027588,0.8267027881893224,10.0>,\n",
       " <SiteImmutable: kind name 'Al0' @ 4.295673695708277,0.8267027881893224,10.0>,\n",
       " <SiteImmutable: kind name 'Al0' @ 2.8637824638055176,3.3068111527572897,10.0>,\n",
       " <SiteImmutable: kind name 'Al0' @ 5.727564927611035,3.3068111527572897,10.0>,\n",
       " <SiteImmutable: kind name 'Al0' @ -1.5983186326405526e-17,1.6534055763786448,12.338268590217984>,\n",
       " <SiteImmutable: kind name 'Al0' @ 2.8637824638055176,1.6534055763786448,12.338268590217984>,\n",
       " <SiteImmutable: kind name 'Al0' @ 1.4318912319027586,4.133513940946612,12.338268590217984>,\n",
       " <SiteImmutable: kind name 'Al0' @ 4.295673695708277,4.133513940946612,12.338268590217984>,\n",
       " <SiteImmutable: kind name 'Al0' @ 0.0,0.0,14.676537180435968>,\n",
       " <SiteImmutable: kind name 'Al0' @ 2.8637824638055176,0.0,14.676537180435968>,\n",
       " <SiteImmutable: kind name 'Al0' @ 1.4318912319027588,2.4801083645679673,14.676537180435968>,\n",
       " <SiteImmutable: kind name 'Al0' @ 4.295673695708277,2.4801083645679673,14.676537180435968>,\n",
       " <SiteImmutable: kind name 'H12' @ 0.0,0.0,16.176537180435968>]"
      ]
     },
     "execution_count": 25,
     "metadata": {},
     "output_type": "execute_result"
    }
   ],
   "source": [
    "mutable_structure = StructureDataMutable.from_ase(slab)\n",
    "mutable_structure.properties.sites"
   ]
  },
  {
   "cell_type": "markdown",
   "metadata": {},
   "source": [
    "We can then verify that indeed the periodic boundary conditions (PBC) are the expected ones:"
   ]
  },
  {
   "cell_type": "code",
   "execution_count": 26,
   "metadata": {},
   "outputs": [
    {
     "data": {
      "text/plain": [
       "[True, True, False]"
      ]
     },
     "execution_count": 26,
     "metadata": {},
     "output_type": "execute_result"
    }
   ],
   "source": [
    "mutable_structure.properties.pbc"
   ]
  },
  {
   "cell_type": "markdown",
   "metadata": {},
   "source": [
    "and that indeed the last sites in the structure (the H) is positively charged:"
   ]
  },
  {
   "cell_type": "code",
   "execution_count": 28,
   "metadata": {},
   "outputs": [
    {
     "data": {
      "text/plain": [
       "[0.0, 0.0, 0.0, 0.0, 0.0, 0.0, 0.0, 0.0, 0.0, 0.0, 0.0, 0.0, 1.0]"
      ]
     },
     "execution_count": 28,
     "metadata": {},
     "output_type": "execute_result"
    }
   ],
   "source": [
    "mutable_structure.properties.charges"
   ]
  },
  {
   "cell_type": "markdown",
   "metadata": {},
   "source": [
    ":::{note}\n",
    "We could have added the charge also via the `StructureDataMutable.set_charges` method. The only advantage of doing it before the conversion is that the charge will be then taken into account for the automatic detection of kinds when the `from_ase` method is invoked.\n",
    ":::"
   ]
  },
  {
   "cell_type": "markdown",
   "metadata": {},
   "source": [
    "## Supercells\n",
    "\n"
   ]
  },
  {
   "cell_type": "code",
   "execution_count": 40,
   "metadata": {},
   "outputs": [
    {
     "data": {
      "text/plain": [
       "Structure Summary\n",
       "Lattice\n",
       "    abc : 11.600923949999999 11.600923949999999 11.60092395\n",
       " angles : 59.999999999999986 59.999999999999986 59.999999999999986\n",
       " volume : 1103.9839041177904\n",
       "      A : 10.046694848071313 0.0 5.800461975000001\n",
       "      B : 3.3488982826904383 9.472114740777569 5.800461975000001\n",
       "      C : 0.0 0.0 11.60092395\n",
       "    pbc : True True True\n",
       "PeriodicSite: Si0 (Si) (3.349, 2.368, 5.8) [0.25, 0.25, 0.25]\n",
       "PeriodicSite: Si0 (Si) (3.349, 2.368, 9.667) [0.25, 0.25, 0.5833]\n",
       "PeriodicSite: Si0 (Si) (3.349, 2.368, 13.53) [0.25, 0.25, 0.9167]\n",
       "PeriodicSite: Si0 (Si) (4.465, 5.525, 7.734) [0.25, 0.5833, 0.25]\n",
       "PeriodicSite: Si0 (Si) (4.465, 5.525, 11.6) [0.25, 0.5833, 0.5833]\n",
       "PeriodicSite: Si0 (Si) (4.465, 5.525, 15.47) [0.25, 0.5833, 0.9167]\n",
       "PeriodicSite: Si0 (Si) (5.581, 8.683, 9.667) [0.25, 0.9167, 0.25]\n",
       "PeriodicSite: Si0 (Si) (5.581, 8.683, 13.53) [0.25, 0.9167, 0.5833]\n",
       "PeriodicSite: Si0 (Si) (5.581, 8.683, 17.4) [0.25, 0.9167, 0.9167]\n",
       "PeriodicSite: Si0 (Si) (6.698, 2.368, 7.734) [0.5833, 0.25, 0.25]\n",
       "PeriodicSite: Si0 (Si) (6.698, 2.368, 11.6) [0.5833, 0.25, 0.5833]\n",
       "PeriodicSite: Si0 (Si) (6.698, 2.368, 15.47) [0.5833, 0.25, 0.9167]\n",
       "PeriodicSite: Si0 (Si) (7.814, 5.525, 9.667) [0.5833, 0.5833, 0.25]\n",
       "PeriodicSite: Si0 (Si) (7.814, 5.525, 13.53) [0.5833, 0.5833, 0.5833]\n",
       "PeriodicSite: Si0 (Si) (7.814, 5.525, 17.4) [0.5833, 0.5833, 0.9167]\n",
       "PeriodicSite: Si0 (Si) (8.93, 8.683, 11.6) [0.5833, 0.9167, 0.25]\n",
       "PeriodicSite: Si0 (Si) (8.93, 8.683, 15.47) [0.5833, 0.9167, 0.5833]\n",
       "PeriodicSite: Si0 (Si) (8.93, 8.683, 19.33) [0.5833, 0.9167, 0.9167]\n",
       "PeriodicSite: Si0 (Si) (10.05, 2.368, 9.667) [0.9167, 0.25, 0.25]\n",
       "PeriodicSite: Si0 (Si) (10.05, 2.368, 13.53) [0.9167, 0.25, 0.5833]\n",
       "PeriodicSite: Si0 (Si) (10.05, 2.368, 17.4) [0.9167, 0.25, 0.9167]\n",
       "PeriodicSite: Si0 (Si) (11.16, 5.525, 11.6) [0.9167, 0.5833, 0.25]\n",
       "PeriodicSite: Si0 (Si) (11.16, 5.525, 15.47) [0.9167, 0.5833, 0.5833]\n",
       "PeriodicSite: Si0 (Si) (11.16, 5.525, 19.33) [0.9167, 0.5833, 0.9167]\n",
       "PeriodicSite: Si0 (Si) (12.28, 8.683, 13.53) [0.9167, 0.9167, 0.25]\n",
       "PeriodicSite: Si0 (Si) (12.28, 8.683, 17.4) [0.9167, 0.9167, 0.5833]\n",
       "PeriodicSite: Si0 (Si) (12.28, 8.683, 21.27) [0.9167, 0.9167, 0.9167]\n",
       "PeriodicSite: Si1 (Si) (2.233, 1.579, 3.867) [0.1667, 0.1667, 0.1667]\n",
       "PeriodicSite: Si1 (Si) (2.233, 1.579, 7.734) [0.1667, 0.1667, 0.5]\n",
       "PeriodicSite: Si1 (Si) (2.233, 1.579, 11.6) [0.1667, 0.1667, 0.8333]\n",
       "PeriodicSite: Si1 (Si) (3.349, 4.736, 5.8) [0.1667, 0.5, 0.1667]\n",
       "PeriodicSite: Si1 (Si) (3.349, 4.736, 9.667) [0.1667, 0.5, 0.5]\n",
       "PeriodicSite: Si1 (Si) (3.349, 4.736, 13.53) [0.1667, 0.5, 0.8333]\n",
       "PeriodicSite: Si1 (Si) (4.465, 7.893, 7.734) [0.1667, 0.8333, 0.1667]\n",
       "PeriodicSite: Si1 (Si) (4.465, 7.893, 11.6) [0.1667, 0.8333, 0.5]\n",
       "PeriodicSite: Si1 (Si) (4.465, 7.893, 15.47) [0.1667, 0.8333, 0.8333]\n",
       "PeriodicSite: Si1 (Si) (5.581, 1.579, 5.8) [0.5, 0.1667, 0.1667]\n",
       "PeriodicSite: Si1 (Si) (5.581, 1.579, 9.667) [0.5, 0.1667, 0.5]\n",
       "PeriodicSite: Si1 (Si) (5.581, 1.579, 13.53) [0.5, 0.1667, 0.8333]\n",
       "PeriodicSite: Si1 (Si) (6.698, 4.736, 7.734) [0.5, 0.5, 0.1667]\n",
       "PeriodicSite: Si1 (Si) (6.698, 4.736, 11.6) [0.5, 0.5, 0.5]\n",
       "PeriodicSite: Si1 (Si) (6.698, 4.736, 15.47) [0.5, 0.5, 0.8333]\n",
       "PeriodicSite: Si1 (Si) (7.814, 7.893, 9.667) [0.5, 0.8333, 0.1667]\n",
       "PeriodicSite: Si1 (Si) (7.814, 7.893, 13.53) [0.5, 0.8333, 0.5]\n",
       "PeriodicSite: Si1 (Si) (7.814, 7.893, 17.4) [0.5, 0.8333, 0.8333]\n",
       "PeriodicSite: Si1 (Si) (8.93, 1.579, 7.734) [0.8333, 0.1667, 0.1667]\n",
       "PeriodicSite: Si1 (Si) (8.93, 1.579, 11.6) [0.8333, 0.1667, 0.5]\n",
       "PeriodicSite: Si1 (Si) (8.93, 1.579, 15.47) [0.8333, 0.1667, 0.8333]\n",
       "PeriodicSite: Si1 (Si) (10.05, 4.736, 9.667) [0.8333, 0.5, 0.1667]\n",
       "PeriodicSite: Si1 (Si) (10.05, 4.736, 13.53) [0.8333, 0.5, 0.5]\n",
       "PeriodicSite: Si1 (Si) (10.05, 4.736, 17.4) [0.8333, 0.5, 0.8333]\n",
       "PeriodicSite: Si1 (Si) (11.16, 7.893, 11.6) [0.8333, 0.8333, 0.1667]\n",
       "PeriodicSite: Si1 (Si) (11.16, 7.893, 15.47) [0.8333, 0.8333, 0.5]\n",
       "PeriodicSite: Si1 (Si) (11.16, 7.893, 19.33) [0.8333, 0.8333, 0.8333]"
      ]
     },
     "execution_count": 40,
     "metadata": {},
     "output_type": "execute_result"
    }
   ],
   "source": [
    "from pymatgen.core.structure import Structure\n",
    "\n",
    "structure = Structure.from_file('../examples/structure/data/Si.cif') \n",
    "structure.make_supercell(3)"
   ]
  },
  {
   "cell_type": "code",
   "execution_count": 41,
   "metadata": {},
   "outputs": [
    {
     "data": {
      "text/plain": [
       "[[10.046694848071313, 0.0, 5.800461975000001],\n",
       " [3.3488982826904383, 9.472114740777569, 5.800461975000001],\n",
       " [0.0, 0.0, 11.60092395]]"
      ]
     },
     "execution_count": 41,
     "metadata": {},
     "output_type": "execute_result"
    }
   ],
   "source": [
    "mutable_structure = StructureDataMutable.from_pymatgen(structure)\n",
    "mutable_structure.properties.cell"
   ]
  },
  {
   "cell_type": "markdown",
   "metadata": {},
   "source": [
    "We can notice that actually the `kinds` now are collapsed into only one, because when we read the Pymatgen structure, an automatic detection of kinds runs and only one if found, i.e. there are no properties which allow a particular distinction:"
   ]
  },
  {
   "cell_type": "code",
   "execution_count": 42,
   "metadata": {},
   "outputs": [
    {
     "data": {
      "text/plain": [
       "{'Si0'}"
      ]
     },
     "execution_count": 42,
     "metadata": {},
     "output_type": "execute_result"
    }
   ],
   "source": [
    "set(mutable_structure.properties.kinds)"
   ]
  },
  {
   "cell_type": "markdown",
   "metadata": {},
   "source": [
    "we can actually untrigger this detection by setting the `detect_kinds` input parameter to `False`, when we initialise the `StructureDataMutable` from Pymatgen:"
   ]
  },
  {
   "cell_type": "code",
   "execution_count": 44,
   "metadata": {},
   "outputs": [
    {
     "data": {
      "text/plain": [
       "{'Si0', 'Si1'}"
      ]
     },
     "execution_count": 44,
     "metadata": {},
     "output_type": "execute_result"
    }
   ],
   "source": [
    "mutable_structure = StructureDataMutable.from_pymatgen(structure,detect_kinds=False)\n",
    "set(mutable_structure.properties.kinds)"
   ]
  },
  {
   "cell_type": "markdown",
   "metadata": {},
   "source": [
    "### Supercell and properties\n",
    "\n",
    "Usually, we want the properties to be propagated in to atoms in a supercell, when we generate it from a unit cell. This can be ensured, once again, using the ASE/Pymatgen libraries:"
   ]
  },
  {
   "cell_type": "code",
   "execution_count": 58,
   "metadata": {},
   "outputs": [],
   "source": [
    "from ase.build import bulk, make_supercell\n",
    "atoms = bulk('NaCl', 'rocksalt', a=5.64)\n",
    "atoms.set_initial_charges([1, -1] * (len(atoms) // 2))"
   ]
  },
  {
   "cell_type": "code",
   "execution_count": 61,
   "metadata": {},
   "outputs": [],
   "source": [
    "supercell = make_supercell(atoms, [[2, 0, 0], [0, 2, 0], [0, 0, 2]])"
   ]
  },
  {
   "cell_type": "code",
   "execution_count": 62,
   "metadata": {},
   "outputs": [
    {
     "data": {
      "text/plain": [
       "array([ 1., -1.,  1., -1.,  1., -1.,  1., -1.,  1., -1.,  1., -1.,  1.,\n",
       "       -1.,  1., -1.])"
      ]
     },
     "execution_count": 62,
     "metadata": {},
     "output_type": "execute_result"
    }
   ],
   "source": [
    "supercell.get_initial_charges()"
   ]
  },
  {
   "cell_type": "code",
   "execution_count": 63,
   "metadata": {},
   "outputs": [],
   "source": [
    "mutable_structure = StructureDataMutable.from_ase(supercell)"
   ]
  },
  {
   "cell_type": "code",
   "execution_count": 64,
   "metadata": {},
   "outputs": [
    {
     "data": {
      "text/plain": [
       "[1.0,\n",
       " -1.0,\n",
       " 1.0,\n",
       " -1.0,\n",
       " 1.0,\n",
       " -1.0,\n",
       " 1.0,\n",
       " -1.0,\n",
       " 1.0,\n",
       " -1.0,\n",
       " 1.0,\n",
       " -1.0,\n",
       " 1.0,\n",
       " -1.0,\n",
       " 1.0,\n",
       " -1.0]"
      ]
     },
     "execution_count": 64,
     "metadata": {},
     "output_type": "execute_result"
    }
   ],
   "source": [
    "mutable_structure.properties.charges"
   ]
  },
  {
   "cell_type": "markdown",
   "metadata": {},
   "source": [
    "Of course, if we want to add a property which is only supported in the atomistic package, e.g. hubbard, we can only attach it once the `StructureDataMutable` of the ASE/Pymatgen supercell is generated."
   ]
  },
  {
   "cell_type": "code",
   "execution_count": 67,
   "metadata": {},
   "outputs": [
    {
     "data": {
      "text/plain": [
       "{'Cl1', 'Na0'}"
      ]
     },
     "execution_count": 67,
     "metadata": {},
     "output_type": "execute_result"
    }
   ],
   "source": [
    "set(mutable_structure.properties.kinds)"
   ]
  },
  {
   "cell_type": "code",
   "execution_count": 70,
   "metadata": {},
   "outputs": [
    {
     "data": {
      "text/plain": [
       "[HubbardParameters(atom_index=0, atom_manifold='3d', neighbour_index=0, neighbour_manifold='3d', translation=(0, 0, 0), value=4.0, hubbard_type='U')]"
      ]
     },
     "execution_count": 70,
     "metadata": {},
     "output_type": "execute_result"
    }
   ],
   "source": [
    "mutable_structure.initialize_onsites_hubbard(\"Na0\", '3d', 4, 'U', use_kinds=True)\n",
    "mutable_structure.properties.hubbard.parameters"
   ]
  },
  {
   "cell_type": "markdown",
   "metadata": {},
   "source": [
    "please note that this is just a dummy example where we put a random hubbard U on sodium. For more details on how to set up hubbard parameters, please refer to the [How to run DFT+U (+V)](03-tutorial_qe.ipynb#how-to-run-DFT+U-+V) section."
   ]
  }
 ],
 "metadata": {
  "kernelspec": {
   "display_name": "base",
   "language": "python",
   "name": "python3"
  },
  "language_info": {
   "codemirror_mode": {
    "name": "ipython",
    "version": 3
   },
   "file_extension": ".py",
   "mimetype": "text/x-python",
   "name": "python",
   "nbconvert_exporter": "python",
   "pygments_lexer": "ipython3",
   "version": "3.10.13"
  }
 },
 "nbformat": 4,
 "nbformat_minor": 2
}
