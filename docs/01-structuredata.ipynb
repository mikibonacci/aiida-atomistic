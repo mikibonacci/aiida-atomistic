{
 "cells": [
  {
   "cell_type": "markdown",
   "metadata": {},
   "source": [
    "---\n",
    "title: StructureData\n",
    "subtitle: A mutable and an immutable StructureData class\n",
    "#author:\n",
    "#  - name: Miki Bonacci\n",
    "    #affiliations: Executable Books; Curvenote\n",
    "    #orcid: 0000-0002-7859-8394\n",
    "#    email: miki.bonacci@psi.ch\n",
    "license:\n",
    "  code: MIT\n",
    "#date: 2023/01/23\n",
    "---\n",
    "\n",
    "In `aiida-atomistic` we provide two StructureData classes: \n",
    "\n",
    "1. `StructureData`, the AiiDA data type used to store a structure in the AiiDA database. It is ***immutable***, i.e. after the initialization we cannot modify it. It is just a container for structure information;\n",
    "2. `StructureDataMutable`, a python class used to manipulate a structure object before to transform it into the immutable `StructureData`;\n",
    "    \n",
    "With respect to `orm.StructureData`, here we provide additional properties to be attached to the structure, e.g. *charges* and *magmoms*. Kind based definition of the sites is dropped, and the *kind_name* is attached to each site as a property. \n",
    "The two `StructureData` and `StructureDataMutable` share the same data structure; the difference is that the latter can be modified by the user after its initialization and, at variance with the `StructureData`, no strict validation checks are performed. Moreover, `StructureDataMutable` will have additional setter methods. \n",
    "The properties are stored under the `properties` attribute of the structure, which is a *pydantic* [`BaseModel`](https://docs.pydantic.dev/latest/api/base_model/) subclass, particularly convenient for data validation.\n",
    "\n",
    ":::{note}\n",
    "The `StructureDataMutable` is a pure python class, i.e. it is **not** and AiiDA node class. This means that it cannot be used as direct input of and AiiDA process. It must always be converted into a `StructureData` object before setting the input structure of the process (check the corresponding [section](#passing-from-structuredata-to-structuredatamutable-and-viceversa)).\n",
    ":::\n",
    "\n",
    "## `StructureData`(s) initialization\n",
    "\n",
    "As both `StructureData` and `StructureDataMutable` share the same data structure, they also share the same inputs for the constructor: a set of keyword arguments describing the properties. These can be easily organized in a python dictionary. This dictionary and the data stored in the AiiDA database have a 1-to1 correspondence:"
   ]
  },
  {
   "cell_type": "code",
   "execution_count": 1,
   "metadata": {},
   "outputs": [
    {
     "name": "stdout",
     "output_type": "stream",
     "text": [
      "Immutable pbc:  [True, True, True]\n",
      "Mutable pbc:  [True, True, True]\n",
      "Immutable cell:  [[2.75, 2.75, 0.0], [0.0, 2.75, 2.75], [2.75, 0.0, 2.75]]\n",
      "Mutable cell:  [[2.75, 2.75, 0.0], [0.0, 2.75, 2.75], [2.75, 0.0, 2.75]]\n",
      "Immutable sites:  [<SiteImmutable: kind name 'Si' @ 0.75,0.75,0.75>, <SiteImmutable: kind name 'Si' @ 0.5,0.5,0.5>]\n",
      "Mutable sites:  [<SiteMutable: kind name 'Si' @ 0.75,0.75,0.75>, <SiteMutable: kind name 'Si' @ 0.5,0.5,0.5>]\n",
      "First immutable site:  {'symbol': 'Si', 'kind_name': 'Si', 'position': [0.75, 0.75, 0.75], 'mass': 28.0855, 'charge': 0, 'magmom': [0, 0, 0], 'weights': (1,)}\n",
      "First mutable site:  {'symbol': 'Si', 'kind_name': 'Si', 'position': [0.75, 0.75, 0.75], 'mass': 28.0855, 'charge': 0, 'magmom': [0, 0, 0], 'weights': (1,)}\n"
     ]
    }
   ],
   "source": [
    "from aiida import load_profile\n",
    "load_profile()\n",
    "\n",
    "from aiida_atomistic import StructureData, StructureDataMutable\n",
    "\n",
    "structure_dict = {\n",
    "    'cell':[[2.75,2.75,0],[0,2.75,2.75],[2.75,0,2.75]],\n",
    "    'pbc': [True,True,True],\n",
    "    'sites':[\n",
    "        {\n",
    "            'symbol':'Si',\n",
    "            'position':[3/4, 3/4, 3/4],\n",
    "        },\n",
    "        {\n",
    "            'symbol':'Si',\n",
    "            'position':[1/2, 1/2, 1/2],\n",
    "        },\n",
    "    ],\n",
    "}\n",
    "\n",
    "mutable_structure = StructureDataMutable(**structure_dict)\n",
    "structure = StructureData(**structure_dict)\n",
    "\n",
    "print(\"Immutable pbc: \",structure.properties.pbc)\n",
    "print(\"Mutable pbc: \",mutable_structure.properties.pbc)\n",
    "\n",
    "print(\"Immutable cell: \",structure.properties.cell)\n",
    "print(\"Mutable cell: \",mutable_structure.properties.cell)\n",
    "\n",
    "print(\"Immutable sites: \",structure.properties.sites)\n",
    "print(\"Mutable sites: \",mutable_structure.properties.sites)\n",
    "\n",
    "print(\"First immutable site: \",structure.properties.sites[0].dict())\n",
    "print(\"First mutable site: \",mutable_structure.properties.sites[0].dict())"
   ]
  },
  {
   "cell_type": "markdown",
   "metadata": {},
   "source": [
    "As we provide the `structure_dict` to the constructor of our two structure data classes, it is immediately used to build up the `properties` attribute. Each site is stored as `SiteMutable` (`SiteImmutable`) object for the mutable (immutable) case. Mutability (immutability) is inherited from the corresponding StructureData class used.\n",
    "\n",
    "The structure can be dumped into a dictionary using the `to_dict` method of the structure, which is nothing else than a wrapper for the *pydantic* *BaseModel* `model_dump` method of the *properties* attribute.:"
   ]
  },
  {
   "cell_type": "code",
   "execution_count": 2,
   "metadata": {},
   "outputs": [
    {
     "data": {
      "text/plain": [
       "{'pbc': [True, True, True],\n",
       " 'cell': [[2.75, 2.75, 0.0], [0.0, 2.75, 2.75], [2.75, 0.0, 2.75]],\n",
       " 'custom': None,\n",
       " 'sites': [{'symbol': 'Si',\n",
       "   'kind_name': 'Si',\n",
       "   'position': [0.75, 0.75, 0.75],\n",
       "   'mass': 28.0855,\n",
       "   'charge': 0,\n",
       "   'magmom': [0, 0, 0],\n",
       "   'weights': (1,)},\n",
       "  {'symbol': 'Si',\n",
       "   'kind_name': 'Si',\n",
       "   'position': [0.5, 0.5, 0.5],\n",
       "   'mass': 28.0855,\n",
       "   'charge': 0,\n",
       "   'magmom': [0, 0, 0],\n",
       "   'weights': (1,)}],\n",
       " 'cell_volume': 41.59375,\n",
       " 'dimensionality': {'dim': 3, 'label': 'volume', 'value': 41.59375},\n",
       " 'charges': [0, 0],\n",
       " 'magmoms': [[0, 0, 0], [0, 0, 0]],\n",
       " 'masses': [28.0855, 28.0855],\n",
       " 'kinds': ['Si', 'Si'],\n",
       " 'symbols': ['Si', 'Si'],\n",
       " 'positions': [[0.75, 0.75, 0.75], [0.5, 0.5, 0.5]],\n",
       " 'formula': 'Si2'}"
      ]
     },
     "execution_count": 2,
     "metadata": {},
     "output_type": "execute_result"
    }
   ],
   "source": [
    "structure.to_dict()"
   ]
  },
  {
   "cell_type": "markdown",
   "metadata": {},
   "source": [
    ":::{important}\n",
    "\n",
    "Some properties are generated automatically, like *kinds*, *charges*, *dimensionality* and so on, and some other properties are set by default if not provided, e.g. the *kind_name* of each site. Mainly, properties are divided in three types: \n",
    "\n",
    "    1 - `direct`: the global properties we can attach to the structure (\"pbc\", \"cell\" and so on)\n",
    "    2 - `sites`: the ones we can attach to single sites (\"charge\", \"magmom\" and so on)\n",
    "    3 - `computed`: the ones computed on the fly by the model, using the first two set of properties (e.g. \"cell_volume\", \"formula\", \"kinds\" and so on)\n",
    "\n",
    "It crucial to understand that we can never set by hands the `computed` properties, not even in the `StructureDataMutable`: they are derived properties. These will change if we modify the `direct` and sites properties: if we change the `cell`, the `cell_volume` will change accordingly. These `computed` properties are generated in such a way to provide easy Query for the user (see the corresponding [section](#how-to-query-structuredata-using-properties)).\n",
    "\n",
    "\n",
    "To visualize the *supported* properties, use the `get_supported_properties` method of the structure class. This provides a dictionary with three keys, *direct*, *computed* and *sites*.\n",
    "To visualize the *defined* properties for the structure, you can use the corresponding `get_defined_properties`. This are organized in a dictionary similarly to what happens in the `get_supported_properties`.\n",
    ":::\n",
    "\n",
    "### Initialization from ASE or Pymatgen\n",
    "\n",
    "If we already have an [ASE](https://wiki.fysik.dtu.dk/ase/) `Atoms` or a [Pymatgen](https://pymatgen.org/index.html) `Structure` object, we can initialize our `StructureData` by means of the built-in `from_ase` and `from_pymatgen` methods.\n",
    "\n",
    "For ASE:"
   ]
  },
  {
   "cell_type": "code",
   "execution_count": 3,
   "metadata": {},
   "outputs": [
    {
     "data": {
      "text/plain": [
       "{'pbc': [True, True, True],\n",
       " 'cell': [[0.0, 1.8, 1.8], [1.8, 0.0, 1.8], [1.8, 1.8, 0.0]],\n",
       " 'custom': None,\n",
       " 'sites': [{'symbol': 'Cu',\n",
       "   'kind_name': 'Cu0',\n",
       "   'position': [0.0, 0.0, 0.0],\n",
       "   'mass': 63.546,\n",
       "   'charge': 1.0,\n",
       "   'magmom': [0.0, 0.0, 0.0],\n",
       "   'weights': (1,)}],\n",
       " 'cell_volume': 11.664000000000001,\n",
       " 'dimensionality': {'dim': 3, 'label': 'volume', 'value': 11.664000000000001},\n",
       " 'charges': [1.0],\n",
       " 'magmoms': [[0.0, 0.0, 0.0]],\n",
       " 'masses': [63.546],\n",
       " 'kinds': ['Cu0'],\n",
       " 'symbols': ['Cu'],\n",
       " 'positions': [[0.0, 0.0, 0.0]],\n",
       " 'formula': 'Cu'}"
      ]
     },
     "execution_count": 3,
     "metadata": {},
     "output_type": "execute_result"
    }
   ],
   "source": [
    "from ase.build import bulk\n",
    "atoms = bulk('Cu', 'fcc', a=3.6)\n",
    "atoms.set_initial_charges([1,])\n",
    "atoms.set_tags([\"2\"])\n",
    "\n",
    "mutable_structure = StructureDataMutable.from_ase(atoms)\n",
    "structure = StructureData.from_ase(atoms)\n",
    "\n",
    "structure.to_dict()"
   ]
  },
  {
   "cell_type": "markdown",
   "metadata": {},
   "source": [
    "In the Pymatgen case:"
   ]
  },
  {
   "cell_type": "code",
   "execution_count": 4,
   "metadata": {},
   "outputs": [
    {
     "data": {
      "text/plain": [
       "{'pbc': [True, True, True],\n",
       " 'cell': [[3.84, 0.0, 2.351321854362918e-16],\n",
       "  [1.92, 2.7152900397563426, -1.919999999999999],\n",
       "  [0.0, 0.0, 3.84]],\n",
       " 'custom': None,\n",
       " 'sites': [{'symbol': 'Si',\n",
       "   'kind_name': 'Si0',\n",
       "   'position': [0.0, 0.0, 0.0],\n",
       "   'mass': 28.0855,\n",
       "   'charge': 1.0,\n",
       "   'magmom': [0.0, 0.0, 0.0],\n",
       "   'weights': (1,)},\n",
       "  {'symbol': 'Si',\n",
       "   'kind_name': 'Si1',\n",
       "   'position': [3.84, 1.3576450198781713, 1.9200000000000006],\n",
       "   'mass': 28.0855,\n",
       "   'charge': 0.0,\n",
       "   'magmom': [0.0, 0.0, 0.0],\n",
       "   'weights': (1,)}],\n",
       " 'cell_volume': 40.038580810231124,\n",
       " 'dimensionality': {'dim': 3, 'label': 'volume', 'value': 40.038580810231124},\n",
       " 'charges': [1.0, 0.0],\n",
       " 'magmoms': [[0.0, 0.0, 0.0], [0.0, 0.0, 0.0]],\n",
       " 'masses': [28.0855, 28.0855],\n",
       " 'kinds': ['Si0', 'Si1'],\n",
       " 'symbols': ['Si', 'Si'],\n",
       " 'positions': [[0.0, 0.0, 0.0],\n",
       "  [3.84, 1.3576450198781713, 1.9200000000000006]],\n",
       " 'formula': 'Si2'}"
      ]
     },
     "execution_count": 4,
     "metadata": {},
     "output_type": "execute_result"
    }
   ],
   "source": [
    "from pymatgen.core import Lattice, Structure, Molecule\n",
    "\n",
    "coords = [[0, 0, 0], [0.75,0.5,0.75]]\n",
    "lattice = Lattice.from_parameters(a=3.84, b=3.84, c=3.84, alpha=120,\n",
    "                                beta=90, gamma=60)\n",
    "struct = Structure(lattice, [\"Si\", \"Si\"], coords)\n",
    "\n",
    "struct.sites[0].properties[\"charge\"]=1\n",
    "\n",
    "mutable_structure = StructureDataMutable.from_pymatgen(struct)\n",
    "structure = StructureData.from_pymatgen(struct)\n",
    "\n",
    "mutable_structure.to_dict()"
   ]
  },
  {
   "cell_type": "markdown",
   "metadata": {},
   "source": [
    "Moreover, we also provide `to_ase` and `to_pymatgen` methods to obtain the corresponding instances.\n",
    "\n",
    ":::{note}\n",
    "When a StructureData is initialized from ASE or Pymatgen, kinds are automatically detected. For further details, please see the section on [Automatic kinds generation](#automatic-kinds-generation). \n",
    ":::"
   ]
  },
  {
   "cell_type": "markdown",
   "metadata": {},
   "source": [
    "## Mutation of a `StructureDataMutable` instance\n",
    "\n",
    "Let's suppose you want to update some property in the `StructureData` before to use it in a calculation. You cannot. The way to go is either to use ASE or Pymatgen to modify your object and store it back into `StructureData`, or to use the `StructureDataMutable` and its mutation methods, and then convert it into `StructureData`.\n",
    "The latter method is the preferred one, as you then have support also for additional properties (to be implemented) like hubbard, which is not supported in ASE and Pymatgen.\n",
    "\n",
    "### Conversion from StructureData to StructureDataMutable and viceversa \n",
    "\n",
    "We provide two methods to convert back and forth between `StructureData` and `StructureDataMutable`. This is useful if we start with a `StructureData` and we need to modify it:"
   ]
  },
  {
   "cell_type": "code",
   "execution_count": 5,
   "metadata": {},
   "outputs": [
    {
     "data": {
      "text/plain": [
       "<aiida_atomistic.data.structure.structure.StructureDataMutable at 0x7447801b29e0>"
      ]
     },
     "execution_count": 5,
     "metadata": {},
     "output_type": "execute_result"
    }
   ],
   "source": [
    "mutable_structure.to_immutable() # returns an instance of StructureData\n",
    "structure.to_mutable() # returns an instance of StructureDataMutable"
   ]
  },
  {
   "cell_type": "markdown",
   "metadata": {},
   "source": [
    "`StructureDataMutable` properties can be modified directly, but also the class contains several setter (`set_*`) methods and more, needed to update a structure. Let's suppose we start from an immutable `StructureData` and we want to update the charges (and the corresponding kinds):"
   ]
  },
  {
   "cell_type": "code",
   "execution_count": 6,
   "metadata": {},
   "outputs": [
    {
     "name": "stdout",
     "output_type": "stream",
     "text": [
      "new charges, kinds:\n",
      "[1.0, 0.0], ['Si2', 'Si1']\n"
     ]
    }
   ],
   "source": [
    "mutable_structure = structure.to_mutable()\n",
    "\n",
    "mutable_structure.set_charges([1, 0])\n",
    "mutable_structure.set_kind_names(['Si2','Si1'])\n",
    "\n",
    "new_structure = mutable_structure.to_immutable()\n",
    "\n",
    "print(f\"new charges, kinds:\\n{new_structure.properties.charges}, {new_structure.properties.kinds}\")"
   ]
  },
  {
   "cell_type": "markdown",
   "metadata": {},
   "source": [
    ":::{note} Preserving the provenance\n",
    "When starting from a `StructureData`, passing to a `StructureDataMutable` and then generating a new modified `StructureData`, we lose provenance. To keep it, we should do the modification by means of an AiiDA [*calcfunction*](https://aiida.readthedocs.io/projects/aiida-core/en/latest/topics/calculations/concepts.html#calculation-functions), which takes as input (output) the starting (modified) `StructureData`. \n",
    "For example, we provide the `generate_striped_structure` utility `calcfunction` to obtain a new `StructureData` without a given property:\n",
    "\n",
    "```python\n",
    "from aiida import orm\n",
    "from aiida_atomistic.data.structure.utils import generate_striped_structure\n",
    "\n",
    "new_structure = generate_striped_structure(structure, orm.List([\"charge\"])) # we reset the charges to the default value (zero charge).\n",
    "```\n",
    ":::"
   ]
  },
  {
   "cell_type": "markdown",
   "metadata": {},
   "source": [
    "It is also possible to `add_atom`, `pop_atom`, `update_site` and so on.\n",
    "Indeed, we can start from and empty `StructureDataMutable` (i.e., from scratch):"
   ]
  },
  {
   "cell_type": "code",
   "execution_count": 7,
   "metadata": {},
   "outputs": [
    {
     "data": {
      "text/plain": [
       "{'pbc': [True, True, True],\n",
       " 'cell': [[0.0, 1.8, 1.8], [1.8, 0.0, 1.8], [1.8, 1.8, 0.0]],\n",
       " 'custom': None,\n",
       " 'sites': [{'symbol': 'Si',\n",
       "   'kind_name': 'Si2',\n",
       "   'position': [0.75, 0.75, 0.75],\n",
       "   'mass': 28.0855,\n",
       "   'charge': 1.0,\n",
       "   'magmom': [0.0, 0.0, 0.0],\n",
       "   'weights': (1,)},\n",
       "  {'symbol': 'Si',\n",
       "   'kind_name': 'Si1',\n",
       "   'position': [0.5, 0.5, 0.5],\n",
       "   'mass': 28.0855,\n",
       "   'charge': 0.0,\n",
       "   'magmom': [0.0, 0.0, 0.0],\n",
       "   'weights': (1,)}],\n",
       " 'cell_volume': 11.664000000000001,\n",
       " 'dimensionality': {'dim': 3, 'label': 'volume', 'value': 11.664000000000001},\n",
       " 'charges': [1.0, 0.0],\n",
       " 'magmoms': [[0.0, 0.0, 0.0], [0.0, 0.0, 0.0]],\n",
       " 'masses': [28.0855, 28.0855],\n",
       " 'kinds': ['Si2', 'Si1'],\n",
       " 'symbols': ['Si', 'Si'],\n",
       " 'positions': [[0.75, 0.75, 0.75], [0.5, 0.5, 0.5]],\n",
       " 'formula': 'Si2'}"
      ]
     },
     "execution_count": 7,
     "metadata": {},
     "output_type": "execute_result"
    }
   ],
   "source": [
    "mutable_structure = StructureDataMutable()\n",
    "mutable_structure.set_cell([[0.0, 1.8, 1.8], [1.8, 0.0, 1.8], [1.8, 1.8, 0.0]])\n",
    "mutable_structure.add_atom({\n",
    "            'symbol':'Si',\n",
    "            'position':[3/4, 3/4, 3/4],\n",
    "            'charge': 1,\n",
    "            'kind_name': 'Si2'\n",
    "        })\n",
    "\n",
    "mutable_structure.add_atom({\n",
    "            'symbol':'Si',\n",
    "            'position':[1/2, 1/2, 1/2],\n",
    "            'charge': 0,\n",
    "            'kind_name': 'Si1'\n",
    "        })\n",
    "\n",
    "mutable_structure.to_dict()"
   ]
  },
  {
   "cell_type": "markdown",
   "metadata": {},
   "source": [
    "###  Slicing a structure\n",
    "\n",
    "It is possible to *slice* a structure, i.e. returning only a part of it (in terms of sites). The method returns a new sliced `StructureDataMutable` (`StructureData`) instance."
   ]
  },
  {
   "cell_type": "code",
   "execution_count": 8,
   "metadata": {},
   "outputs": [
    {
     "data": {
      "text/plain": [
       "{'pbc': [True, True, True],\n",
       " 'cell': [[0.0, 1.8, 1.8], [1.8, 0.0, 1.8], [1.8, 1.8, 0.0]],\n",
       " 'custom': None,\n",
       " 'sites': [{'symbol': 'Si',\n",
       "   'kind_name': 'Si2',\n",
       "   'position': [0.75, 0.75, 0.75],\n",
       "   'mass': 28.0855,\n",
       "   'charge': 1.0,\n",
       "   'magmom': [0.0, 0.0, 0.0],\n",
       "   'weights': (1.0,)}],\n",
       " 'cell_volume': 11.664000000000001,\n",
       " 'dimensionality': {'dim': 3, 'label': 'volume', 'value': 11.664000000000001},\n",
       " 'charges': [1.0],\n",
       " 'magmoms': [[0.0, 0.0, 0.0]],\n",
       " 'masses': [28.0855],\n",
       " 'kinds': ['Si2'],\n",
       " 'symbols': ['Si'],\n",
       " 'positions': [[0.75, 0.75, 0.75]],\n",
       " 'formula': 'Si'}"
      ]
     },
     "execution_count": 8,
     "metadata": {},
     "output_type": "execute_result"
    }
   ],
   "source": [
    "sliced_structure = mutable_structure[:1]\n",
    "sliced_structure.to_dict()"
   ]
  },
  {
   "cell_type": "markdown",
   "metadata": {},
   "source": [
    "### Set a property for a given kind\n",
    "\n",
    "It is possible to set properties for a given `kind_name` in the structure. This allows the user to avoid to loop over all the sites to update their properties only if the site is of a given kind:"
   ]
  },
  {
   "cell_type": "code",
   "execution_count": 9,
   "metadata": {},
   "outputs": [
    {
     "data": {
      "text/plain": [
       "[[0.0, 0.0, 0.0], [0, 0, -1]]"
      ]
     },
     "execution_count": 9,
     "metadata": {},
     "output_type": "execute_result"
    }
   ],
   "source": [
    "mutable_structure.set_kind_property(name=\"magmom\", values=[0,0,-1], kind_name=\"Si1\")\n",
    "mutable_structure.properties.magmoms"
   ]
  },
  {
   "cell_type": "markdown",
   "metadata": {},
   "source": [
    "## Automatic kinds generation\n",
    "\n",
    "It is possible to automatically detect kinds for a given structure. This is done by default when initializing the structure from ASE or Pymatgen. Moreover, the kind can be also generated during the `to_dict` call, such that our output_dictionary will already have the detected kinds. This is valid also for the `to_mutable`, `to_immutable` methods. \n",
    "In summary, we can control automatic kind detection in the initialization of our StructureData/StructureDataMutable:\n",
    "\n",
    "1. new_structuredata = StructureData.from_ase(ase_structure, detect_kinds=False) # default is True\n",
    "2. new_structuredata = StructureData.from_pymatgen(pymatgen_structure, detect_kinds=False) # default is True\n",
    "3. new_structuredata = StructureData(**old_structuredata.to_dict(detect_kinds=True)) # default is False\n",
    "4. new_structuredata = mutable_structure.to_immutable(detect_kinds=True) # default is False"
   ]
  },
  {
   "cell_type": "code",
   "execution_count": 10,
   "metadata": {},
   "outputs": [
    {
     "data": {
      "text/plain": [
       "{'pbc': [True, True, True],\n",
       " 'cell': [[2.8403, 0.0, 1.7391821518091137e-16],\n",
       "  [-1.7391821518091137e-16, 2.8403, 1.7391821518091137e-16],\n",
       "  [0.0, 0.0, 2.8403]],\n",
       " 'custom': None,\n",
       " 'sites': [{'symbol': 'Fe',\n",
       "   'kind_name': 'Fe0',\n",
       "   'position': [0.0, 0.0, 0.0],\n",
       "   'mass': 55.845,\n",
       "   'charge': 0.0,\n",
       "   'magmom': [2.5, 0.1, 0.1],\n",
       "   'weights': (1,)},\n",
       "  {'symbol': 'Fe',\n",
       "   'kind_name': 'Fe1',\n",
       "   'position': [1.42015, 1.42015, 1.4201500000000002],\n",
       "   'mass': 55.845,\n",
       "   'charge': 0.0,\n",
       "   'magmom': [2.4, 0.1, 0.1],\n",
       "   'weights': (1,)}],\n",
       " 'cell_volume': 22.913563806827,\n",
       " 'dimensionality': {'dim': 3, 'label': 'volume', 'value': 22.913563806827},\n",
       " 'charges': [0.0, 0.0],\n",
       " 'magmoms': [[2.5, 0.1, 0.1], [2.4, 0.1, 0.1]],\n",
       " 'masses': [55.845, 55.845],\n",
       " 'kinds': ['Fe0', 'Fe1'],\n",
       " 'symbols': ['Fe', 'Fe'],\n",
       " 'positions': [[0.0, 0.0, 0.0], [1.42015, 1.42015, 1.4201500000000002]],\n",
       " 'formula': 'Fe2'}"
      ]
     },
     "execution_count": 10,
     "metadata": {},
     "output_type": "execute_result"
    }
   ],
   "source": [
    "Fe_BCC_dictionary = {'pbc': (True, True, True),\n",
    "        'cell': [[2.8403, 0.0, 1.7391821518091137e-16],\n",
    "        [-1.7391821518091137e-16, 2.8403, 1.7391821518091137e-16],\n",
    "        [0.0, 0.0, 2.8403]],\n",
    "        'sites': [{'symbol': 'Fe',\n",
    "        'mass': 55.845,\n",
    "        'position': [0.0, 0.0, 0.0],\n",
    "        'charge': 0.0,\n",
    "        'magmom': [2.5, 0.1, 0.1],\n",
    "        'kind_name': 'Fe'},\n",
    "        {'symbol': 'Fe',\n",
    "        'mass': 55.845,\n",
    "        'position': [1.42015, 1.42015, 1.4201500000000002],\n",
    "        'charge': 0.0,\n",
    "        'magmom': [2.4, 0.1, 0.1],\n",
    "        'kind_name': 'Fe'}]}\n",
    "\n",
    "mutable_structure = StructureDataMutable(**Fe_BCC_dictionary)\n",
    "\n",
    "new_mutable_structure = StructureDataMutable(**mutable_structure.to_dict(detect_kinds=True))\n",
    "new_mutable_structure.to_dict()"
   ]
  },
  {
   "cell_type": "markdown",
   "metadata": {},
   "source": [
    "As we have a `StructureDataMutable`, we can also directly put our new sites in the starting `mutable_structure`:"
   ]
  },
  {
   "cell_type": "code",
   "execution_count": 11,
   "metadata": {},
   "outputs": [
    {
     "data": {
      "text/plain": [
       "{'pbc': [True, True, True],\n",
       " 'cell': [[2.8403, 0.0, 1.7391821518091137e-16],\n",
       "  [-1.7391821518091137e-16, 2.8403, 1.7391821518091137e-16],\n",
       "  [0.0, 0.0, 2.8403]],\n",
       " 'custom': None,\n",
       " 'sites': [{'symbol': 'Fe',\n",
       "   'kind_name': 'Fe0',\n",
       "   'position': [0.0, 0.0, 0.0],\n",
       "   'mass': 55.845,\n",
       "   'charge': 0.0,\n",
       "   'magmom': [2.5, 0.1, 0.1],\n",
       "   'weights': (1,)},\n",
       "  {'symbol': 'Fe',\n",
       "   'kind_name': 'Fe1',\n",
       "   'position': [1.42015, 1.42015, 1.4201500000000002],\n",
       "   'mass': 55.845,\n",
       "   'charge': 0.0,\n",
       "   'magmom': [2.4, 0.1, 0.1],\n",
       "   'weights': (1,)}],\n",
       " 'cell_volume': 22.913563806827,\n",
       " 'dimensionality': {'dim': 3, 'label': 'volume', 'value': 22.913563806827},\n",
       " 'charges': [0.0, 0.0],\n",
       " 'magmoms': [[2.5, 0.1, 0.1], [2.4, 0.1, 0.1]],\n",
       " 'masses': [55.845, 55.845],\n",
       " 'kinds': ['Fe0', 'Fe1'],\n",
       " 'symbols': ['Fe', 'Fe'],\n",
       " 'positions': [[0.0, 0.0, 0.0], [1.42015, 1.42015, 1.4201500000000002]],\n",
       " 'formula': 'Fe2'}"
      ]
     },
     "execution_count": 11,
     "metadata": {},
     "output_type": "execute_result"
    }
   ],
   "source": [
    "mutable_structure.clear_sites()\n",
    "for site in new_mutable_structure.to_dict()['sites']:\n",
    "    mutable_structure.add_atom(site)\n",
    "    \n",
    "mutable_structure.to_dict()"
   ]
  },
  {
   "cell_type": "markdown",
   "metadata": {},
   "source": [
    "To return the list of sites with the automatically generated kinds, you can also invoke the `get_kinds` method in this way"
   ]
  },
  {
   "cell_type": "code",
   "execution_count": 16,
   "metadata": {},
   "outputs": [
    {
     "name": "stdout",
     "output_type": "stream",
     "text": [
      "[{'kind_name': 'Fe0', 'mass': 55.845, 'charge': 0.0, 'magmom': [2.5, 0.1, 0.1], 'symbol': 'Fe', 'position': [0.0, 0.0, 0.0]}, {'kind_name': 'Fe1', 'mass': 55.845, 'charge': 0.0, 'magmom': [2.4, 0.1, 0.1], 'symbol': 'Fe', 'position': [1.42015, 1.42015, 1.4201500000000002]}]\n"
     ]
    }
   ],
   "source": [
    "sites_with_kinds = mutable_structure.get_kinds(ready_to_use=True)\n",
    "print(sites_with_kinds)"
   ]
  },
  {
   "cell_type": "markdown",
   "metadata": {},
   "source": [
    "and then store them in the structure:"
   ]
  },
  {
   "cell_type": "code",
   "execution_count": 17,
   "metadata": {},
   "outputs": [
    {
     "data": {
      "text/plain": [
       "{'pbc': [True, True, True],\n",
       " 'cell': [[2.8403, 0.0, 1.7391821518091137e-16],\n",
       "  [-1.7391821518091137e-16, 2.8403, 1.7391821518091137e-16],\n",
       "  [0.0, 0.0, 2.8403]],\n",
       " 'custom': None,\n",
       " 'sites': [{'symbol': 'Fe',\n",
       "   'kind_name': 'Fe0',\n",
       "   'position': [0.0, 0.0, 0.0],\n",
       "   'mass': 55.845,\n",
       "   'charge': 0.0,\n",
       "   'magmom': [2.5, 0.1, 0.1],\n",
       "   'weights': (1,)},\n",
       "  {'symbol': 'Fe',\n",
       "   'kind_name': 'Fe1',\n",
       "   'position': [1.42015, 1.42015, 1.4201500000000002],\n",
       "   'mass': 55.845,\n",
       "   'charge': 0.0,\n",
       "   'magmom': [2.4, 0.1, 0.1],\n",
       "   'weights': (1,)}],\n",
       " 'cell_volume': 22.913563806827,\n",
       " 'dimensionality': {'dim': 3, 'label': 'volume', 'value': 22.913563806827},\n",
       " 'charges': [0.0, 0.0],\n",
       " 'magmoms': [[2.5, 0.1, 0.1], [2.4, 0.1, 0.1]],\n",
       " 'masses': [55.845, 55.845],\n",
       " 'kinds': ['Fe0', 'Fe1'],\n",
       " 'symbols': ['Fe', 'Fe'],\n",
       " 'positions': [[0.0, 0.0, 0.0], [1.42015, 1.42015, 1.4201500000000002]],\n",
       " 'formula': 'Fe2'}"
      ]
     },
     "execution_count": 17,
     "metadata": {},
     "output_type": "execute_result"
    }
   ],
   "source": [
    "mutable_structure.clear_sites()\n",
    "for site in sites_with_kinds:\n",
    "    mutable_structure.add_atom(site)\n",
    "    \n",
    "mutable_structure.to_dict()"
   ]
  },
  {
   "cell_type": "markdown",
   "metadata": {},
   "source": [
    "## How to Query StructureData using properties\n",
    "\n",
    "Thanks to the additional computed properties in our `StructureData` (*formula*, *symbols*, *kinds*, *masses*, *charges*, *magmoms*, *positions*, *cell_volume*, *dimensionality*), we can easily query for a structure:"
   ]
  },
  {
   "cell_type": "code",
   "execution_count": 12,
   "metadata": {},
   "outputs": [
    {
     "name": "stdout",
     "output_type": "stream",
     "text": [
      "1388\n",
      "[<StructureData: uuid: 1f5c5fe2-05ee-4e36-b2bc-313e1132d09f (pk: 1388)>]\n"
     ]
    }
   ],
   "source": [
    "from aiida.orm import QueryBuilder\n",
    "\n",
    "stored = new_mutable_structure.to_immutable().store()\n",
    "print(stored.pk)\n",
    "\n",
    "qb = QueryBuilder()\n",
    "qb.append(StructureData, \n",
    "          filters={'attributes.formula': 'Fe2'},\n",
    "          )\n",
    "\n",
    "print(qb.all()[0])"
   ]
  },
  {
   "cell_type": "markdown",
   "metadata": {},
   "source": [
    "## How to define alloys and deal with vacancies\n",
    "\n",
    "It is possible to define more than one element for a given site, i.e. to define an *alloy*. This can be done by providing as symbol the combination of the symbols, and also the corresponding *weights* tuple:"
   ]
  },
  {
   "cell_type": "code",
   "execution_count": 13,
   "metadata": {},
   "outputs": [
    {
     "data": {
      "text/plain": [
       "{'symbol': 'CuAl',\n",
       " 'kind_name': 'CuAl',\n",
       " 'position': [0.0, 0.0, 0.0],\n",
       " 'mass': 45.263768999999996,\n",
       " 'charge': 0,\n",
       " 'magmom': [0, 0, 0],\n",
       " 'weights': (0.5, 0.5)}"
      ]
     },
     "execution_count": 13,
     "metadata": {},
     "output_type": "execute_result"
    }
   ],
   "source": [
    "structure  = StructureDataMutable(**{'pbc': [True, True, True],\n",
    " 'cell': [[0.0, 1.8, 1.8], [1.8, 0.0, 1.8], [1.8, 1.8, 0.0]],\n",
    " 'sites': [{'symbol': 'CuAl',\n",
    "   'position': [0.0, 0.0, 0.0],\n",
    "   'weights': (0.5,0.5)\n",
    "   }],})\n",
    "\n",
    "structure.properties.sites[0].dict()"
   ]
  },
  {
   "cell_type": "markdown",
   "metadata": {},
   "source": [
    "if not provided, the mass is computed accordingly to the symbols and weights. Vacancies are detected when the sum of the weights is less than 1."
   ]
  },
  {
   "cell_type": "code",
   "execution_count": 14,
   "metadata": {},
   "outputs": [
    {
     "name": "stdout",
     "output_type": "stream",
     "text": [
      "True\n",
      "False\n"
     ]
    }
   ],
   "source": [
    "print(structure.is_alloy)\n",
    "print(structure.has_vacancies)"
   ]
  },
  {
   "cell_type": "markdown",
   "metadata": {},
   "source": [
    "## How to add custom properties\n",
    "\n",
    "It is possible to add custom properties at the `StructureData` level (not at the `Site` level). These are defined as properties which are not officially supported in the `atomistic` package.\n",
    "To do that, it is sufficient to put the corresponding property under the `custom` Field, a dictionary which should contain the custom property names as keys, followed by the corresponding value:"
   ]
  },
  {
   "cell_type": "code",
   "execution_count": 15,
   "metadata": {},
   "outputs": [
    {
     "data": {
      "text/plain": [
       "{'electronic_type': 'metal'}"
      ]
     },
     "execution_count": 15,
     "metadata": {},
     "output_type": "execute_result"
    }
   ],
   "source": [
    "structure  = StructureData(**{'pbc': [True, True, True],\n",
    " 'cell': [[0.0, 1.8, 1.8], [1.8, 0.0, 1.8], [1.8, 1.8, 0.0]],\n",
    " 'sites': [{'symbol': 'Cu',\n",
    "   'position': [0.0, 0.0, 0.0],\n",
    "   }],\n",
    " 'custom': {\n",
    "     'electronic_type': 'metal',\n",
    " }\n",
    " })\n",
    "\n",
    "structure.properties.custom"
   ]
  },
  {
   "cell_type": "markdown",
   "metadata": {},
   "source": [
    ":::{note}\n",
    ":class: dropdown\n",
    "Automatic serialization of the custom properties is done when the model is dumped (e.g. when the structure is stored in the AiiDA database). If serialization is not possible, an error is retrieved.\n",
    "\n",
    "The defined property should be used in the plugin as any other property: if you just want to store additional information on the structure, which do not need to be used in a calculation, store it in the `extras`:\n",
    "\n",
    "```python\n",
    "structure.base.extras.set('electronic_type', 'metal')\n",
    "```\n",
    "\n",
    ":::"
   ]
  },
  {
   "cell_type": "markdown",
   "metadata": {},
   "source": [
    "## Backward compatibility support\n",
    "\n",
    "As minimal backward compatibility (which will be dropped in future versions), we implemented the `to_atomistic` method in the old `orm.StructureData`, so that it is possible to start from an old structure and dump the corresponding instance of the new data type."
   ]
  }
 ],
 "metadata": {
  "kernelspec": {
   "display_name": "base",
   "language": "python",
   "name": "python3"
  },
  "language_info": {
   "codemirror_mode": {
    "name": "ipython",
    "version": 3
   },
   "file_extension": ".py",
   "mimetype": "text/x-python",
   "name": "python",
   "nbconvert_exporter": "python",
   "pygments_lexer": "ipython3",
   "version": "3.10.13"
  }
 },
 "nbformat": 4,
 "nbformat_minor": 2
}
