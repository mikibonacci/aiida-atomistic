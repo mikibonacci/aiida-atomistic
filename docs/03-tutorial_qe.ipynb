{
 "cells": [
  {
   "cell_type": "markdown",
   "metadata": {},
   "source": [
    "---\n",
    "title: How to submit a PwBaseWorkChain \n",
    "subtitle: \n",
    "#author:\n",
    "#  - name: Miki Bonacci\n",
    "    #affiliations: Executable Books; Curvenote\n",
    "    #orcid: 0000-0002-7859-8394\n",
    "#    email: miki.bonacci@psi.ch\n",
    "license:\n",
    "  code: MIT\n",
    "#date: 2023/01/23\n",
    "---\n",
    "\n",
    "In the following we show how to run a calculation with the `aiida-quantumespresso` plugin using the new *atomistic* `StructureData`. \n",
    "The procedure is very similar to the [old way](https://aiida-quantumespresso.readthedocs.io/en/latest/tutorials/first_pw.html), except to the fact that now properties like magnetization and charge are provided within the structure\n",
    "and not in the input parameters of the `PwCalculation`.\n",
    "\n",
    "***For now, only magnetization is supported.***\n",
    "\n",
    "***PLEASE USE THE FOLLOWING VERSIONS OF THE RELATED CODES:***\n",
    "\n",
    "- aiida-atomistic: [switch_models branch](https://github.com/mikibonacci/aiida-atomistic/tree/switch_models)\n",
    "- aiida-core: [new_StructureData branch](https://github.com/mikibonacci/aiida-core/tree/new_StructureData)\n",
    "- aiida-quantumespresso: [new_StructureData branch](https://github.com/mikibonacci/aiida-quantumespresso/tree/new_StructureData)\n",
    "- aiida-pseudo: [new_StructureData branch](https://github.com/mikibonacci/aiida-pseudo/tree/new_StructureData)"
   ]
  },
  {
   "cell_type": "code",
   "execution_count": 1,
   "metadata": {},
   "outputs": [
    {
     "data": {
      "text/plain": [
       "Profile<uuid='1a5a8d0836814a04a238c67cc7481655' name='default'>"
      ]
     },
     "execution_count": 1,
     "metadata": {},
     "output_type": "execute_result"
    }
   ],
   "source": [
    "from aiida import load_profile, orm\n",
    "from aiida_quantumespresso.workflows.pw.base import PwBaseWorkChain\n",
    "from aiida_atomistic import StructureData, StructureDataMutable\n",
    "\n",
    "load_profile()"
   ]
  },
  {
   "cell_type": "markdown",
   "metadata": {},
   "source": [
    "Once loaded the necessary modules, we start building up our `StructureDataMutable`, to be then converted into the AiiDA `StructureData` (via the `to_immutable` method):"
   ]
  },
  {
   "cell_type": "code",
   "execution_count": 2,
   "metadata": {},
   "outputs": [],
   "source": [
    "mutable_structure = StructureDataMutable()\n",
    "mutable_structure.set_cell([[0.0, 1.8, 1.8], [1.8, 0.0, 1.8], [1.8, 1.8, 0.0]])\n",
    "\n",
    "mutable_structure.add_atom(**{\n",
    "            'symbols':'Si',\n",
    "            'positions':[1/2, 1/2, 1/2],\n",
    "            'kinds': 'Si1'\n",
    "        })\n",
    "mutable_structure.add_atom(**{\n",
    "            'symbols':'Si',\n",
    "            'positions':[3/4, 3/4, 3/4],\n",
    "            'kinds': 'Si1'\n",
    "        })\n",
    "\n",
    "structure = mutable_structure.to_immutable()"
   ]
  },
  {
   "cell_type": "markdown",
   "metadata": {},
   "source": [
    "We then generate the `PwBaseWorkChain` builder via the `get_builder_from_protocol` method, providing as input the *pw.x* code node and the structure:"
   ]
  },
  {
   "cell_type": "code",
   "execution_count": 3,
   "metadata": {},
   "outputs": [
    {
     "name": "stderr",
     "output_type": "stream",
     "text": [
      "09/26/2024 04:34:23 PM <1264724> aiida.orm.nodes.process.workflow.workchain.WorkChainNode: [REPORT] [1941|PwBaseWorkChain|run_process]: launching PwCalculation<1946> iteration #1\n",
      "09/26/2024 04:34:27 PM <1264724> aiida.orm.nodes.process.workflow.workchain.WorkChainNode: [REPORT] [1941|PwBaseWorkChain|results]: work chain completed after 1 iterations\n",
      "09/26/2024 04:34:27 PM <1264724> aiida.orm.nodes.process.workflow.workchain.WorkChainNode: [REPORT] [1941|PwBaseWorkChain|on_terminated]: remote folders will not be cleaned\n"
     ]
    }
   ],
   "source": [
    "from aiida.engine import submit, run_get_node\n",
    "\n",
    "\n",
    "builder = PwBaseWorkChain.get_builder_from_protocol(\n",
    "    code=orm.load_code(\"pw-qe-7.2@localhost\"), \n",
    "    structure=structure,\n",
    "    protocol=\"fast\",\n",
    "    )\n",
    "\n",
    "run = run_get_node(builder)"
   ]
  },
  {
   "cell_type": "markdown",
   "metadata": {},
   "source": [
    "After the job is finished, you can inspect the outputs as usual:"
   ]
  },
  {
   "cell_type": "code",
   "execution_count": 4,
   "metadata": {},
   "outputs": [
    {
     "data": {
      "text/plain": [
       "{'remote_folder': <RemoteData: uuid: 88fdebdf-0fae-4e0a-be77-f10a67a5bbfd (pk: 1947)>,\n",
       " 'retrieved': <FolderData: uuid: 18958707-301f-492a-a921-50a70e3f9bbe (pk: 1948)>,\n",
       " 'output_parameters': <Dict: uuid: df3d21f0-db14-48dd-97d4-6ecba66a2223 (pk: 1951)>,\n",
       " 'output_trajectory': <TrajectoryData: uuid: 7d02ea97-6fb8-4946-893d-cdd3e7802239 (pk: 1950)>,\n",
       " 'output_band': <BandsData: uuid: 9df14e07-cff5-4ba5-80ad-4a4cda4a4951 (pk: 1949)>}"
      ]
     },
     "execution_count": 4,
     "metadata": {},
     "output_type": "execute_result"
    }
   ],
   "source": [
    "run[0]"
   ]
  },
  {
   "cell_type": "markdown",
   "metadata": {},
   "source": [
    "## How to deal with magnetic configurations\n",
    "\n",
    "The first way to prepare a magnetic calculation is to trigger the `nspin` or `noncolin` in the input parameters of the `PwCalculation` respectively for *collinear* (`nspin=2`) and *non collinear* (`noncolin=.True.`) calculations.\n",
    "\n",
    "Of course, the magnetic moments have to be provided within the `StructureData`, so that they can be used to build the [*starting_magnetization*](https://www.quantum-espresso.org/Doc/INPUT_PW.html#idm301) variable in the `&SYSTEM` namelist.\n",
    "\n",
    "\n",
    "### Collinear case \n",
    "\n",
    "We first load the structure using Pymatgen to parse the *mcif* file for BCC Iron:"
   ]
  },
  {
   "cell_type": "code",
   "execution_count": 5,
   "metadata": {},
   "outputs": [
    {
     "name": "stdout",
     "output_type": "stream",
     "text": [
      "[[0.0, 0.0, 2.5]]\n"
     ]
    }
   ],
   "source": [
    "from pymatgen.core import Structure\n",
    "\n",
    "#suppose you are in the `aiida-atomistic` root folder\n",
    "iron_bcc = Structure.from_file('../examples/structure/data/Fe_bcc.mcif', primitive=True)\n",
    "magnetic_structure = StructureData.from_pymatgen(iron_bcc)\n",
    "\n",
    "print(magnetic_structure.properties.magmoms)"
   ]
  },
  {
   "cell_type": "code",
   "execution_count": 6,
   "metadata": {},
   "outputs": [
    {
     "data": {
      "text/plain": [
       "['Fe0']"
      ]
     },
     "execution_count": 6,
     "metadata": {},
     "output_type": "execute_result"
    }
   ],
   "source": [
    "magnetic_structure.properties.kinds"
   ]
  },
  {
   "cell_type": "markdown",
   "metadata": {},
   "source": [
    "We can check that our structure is collinear (trivial in this case):"
   ]
  },
  {
   "cell_type": "code",
   "execution_count": 7,
   "metadata": {},
   "outputs": [
    {
     "data": {
      "text/plain": [
       "True"
      ]
     },
     "execution_count": 7,
     "metadata": {},
     "output_type": "execute_result"
    }
   ],
   "source": [
    "magnetic_structure.is_collinear"
   ]
  },
  {
   "cell_type": "markdown",
   "metadata": {},
   "source": [
    "For now, we consider only collinear magnetic moments along the z axis.\n",
    "\n",
    "We can create again the builder as before, this time overriding `nspin` to be equal to 2 (*collinear* calculation):"
   ]
  },
  {
   "cell_type": "code",
   "execution_count": 8,
   "metadata": {},
   "outputs": [],
   "source": [
    "builder = PwBaseWorkChain.get_builder_from_protocol(\n",
    "    code=orm.load_code(\"pw-qe-7.2@localhost\"), \n",
    "    structure=magnetic_structure,\n",
    "    protocol=\"fast\",\n",
    "    overrides={\n",
    "        \"pw\":{\n",
    "            \"parameters\":{\n",
    "                \"SYSTEM\":\n",
    "                    {\"nspin\": 2}\n",
    "            }\n",
    "        }\n",
    "    }\n",
    "    )"
   ]
  },
  {
   "cell_type": "code",
   "execution_count": 9,
   "metadata": {},
   "outputs": [
    {
     "name": "stderr",
     "output_type": "stream",
     "text": [
      "09/26/2024 04:34:30 PM <1264724> aiida.orm.nodes.process.workflow.workchain.WorkChainNode: [REPORT] [1958|PwBaseWorkChain|run_process]: launching PwCalculation<1963> iteration #1\n",
      "09/26/2024 04:34:39 PM <1264724> aiida.orm.nodes.process.workflow.workchain.WorkChainNode: [REPORT] [1958|PwBaseWorkChain|results]: work chain completed after 1 iterations\n",
      "09/26/2024 04:34:39 PM <1264724> aiida.orm.nodes.process.workflow.workchain.WorkChainNode: [REPORT] [1958|PwBaseWorkChain|on_terminated]: remote folders will not be cleaned\n"
     ]
    }
   ],
   "source": [
    "run = run_get_node(builder)"
   ]
  },
  {
   "cell_type": "markdown",
   "metadata": {},
   "source": [
    "### The output magnetic moments\n",
    "\n",
    "For now, the new output magnetization of a structure will not be stored in the output `StructureData` (if any). \n",
    "The reason is that the output magnetization can present some discrepancies which are actually artifacts of the simulation. For example, (magnetic) symmetries maybe not correctly detected (due to different kinds) and so magnetization magnitudes (and orientations) are not the same as expected. \n",
    "\n",
    "So, the if the user needs it, he can use a `calcfuntion` to generate a new `StructureData` with the new magnetic moments (both as list of *floats* or of len=3 *lists*):"
   ]
  },
  {
   "cell_type": "code",
   "execution_count": 10,
   "metadata": {},
   "outputs": [
    {
     "name": "stdout",
     "output_type": "stream",
     "text": [
      "[2.3254]\n"
     ]
    }
   ],
   "source": [
    "trajectory = run[-1].called[-1].outputs.output_trajectory # run[1].called[-1].outputs.output_trajectory\n",
    "magnetic_moments = [magmom[0] for magmom in trajectory.get_array('atomic_magnetic_moments')]\n",
    "print(magnetic_moments)"
   ]
  },
  {
   "cell_type": "code",
   "execution_count": 11,
   "metadata": {},
   "outputs": [
    {
     "name": "stdout",
     "output_type": "stream",
     "text": [
      "New StructureData: uuid: e76003c3-7441-4d2b-85cf-699a87454f2f (pk: 1971)\n",
      "Attached magmoms: [[0.0, 0.0, 2.3254]]\n"
     ]
    }
   ],
   "source": [
    "from aiida_quantumespresso.utils.magnetic import generate_structure_with_magmoms\n",
    "\n",
    "new_structure = generate_structure_with_magmoms(magnetic_structure, magnetic_moments)\n",
    "print(f\"New StructureData: {new_structure}\\nAttached magmoms: {new_structure.properties.magmoms}\")"
   ]
  },
  {
   "cell_type": "markdown",
   "metadata": {},
   "source": [
    "Using this utility function, kinds will be automatically detected. \n",
    "\n",
    "If you don't want the provenance and the new `StructureData` node to be stored, add `metadata={\"store_provenance\": False}` to the input of the `calcfunction`. \n",
    "\n",
    "### Non-collinear case \n",
    "\n",
    "For the non-collinear case, we just need to put `noncolin: True` in the input parameters:"
   ]
  },
  {
   "cell_type": "code",
   "execution_count": 12,
   "metadata": {},
   "outputs": [],
   "source": [
    "builder = PwBaseWorkChain.get_builder_from_protocol(\n",
    "    code=orm.load_code(\"pw-qe-7.2@localhost\"), \n",
    "    structure=magnetic_structure,\n",
    "    protocol=\"fast\",\n",
    "    overrides={\n",
    "        \"pw\":{\n",
    "            \"parameters\":{\n",
    "                \"SYSTEM\":\n",
    "                    {\"noncolin\": True}\n",
    "            }\n",
    "        }\n",
    "    }\n",
    "    )"
   ]
  },
  {
   "cell_type": "code",
   "execution_count": 13,
   "metadata": {},
   "outputs": [
    {
     "name": "stderr",
     "output_type": "stream",
     "text": [
      "09/26/2024 04:34:40 PM <1264724> aiida.orm.nodes.process.workflow.workchain.WorkChainNode: [REPORT] [1977|PwBaseWorkChain|run_process]: launching PwCalculation<1982> iteration #1\n",
      "09/26/2024 04:34:59 PM <1264724> aiida.orm.nodes.process.workflow.workchain.WorkChainNode: [REPORT] [1977|PwBaseWorkChain|results]: work chain completed after 1 iterations\n",
      "09/26/2024 04:34:59 PM <1264724> aiida.orm.nodes.process.workflow.workchain.WorkChainNode: [REPORT] [1977|PwBaseWorkChain|on_terminated]: remote folders will not be cleaned\n"
     ]
    }
   ],
   "source": [
    "run = run_get_node(builder)"
   ]
  },
  {
   "cell_type": "code",
   "execution_count": 14,
   "metadata": {},
   "outputs": [
    {
     "data": {
      "text/plain": [
       "{'remote_folder': <RemoteData: uuid: 24c30625-332b-4ca8-aa94-02c08417efc4 (pk: 1983)>,\n",
       " 'retrieved': <FolderData: uuid: 357ad2bd-63b1-4ed2-8b82-96b7e52a04b0 (pk: 1984)>,\n",
       " 'output_parameters': <Dict: uuid: 9392a436-08e2-41ed-8845-22dd1c1d60cb (pk: 1987)>,\n",
       " 'output_trajectory': <TrajectoryData: uuid: a3031313-41cc-4790-a6da-c69766ee5add (pk: 1986)>,\n",
       " 'output_band': <BandsData: uuid: c9dfec73-e106-4a37-b412-4e84a0c648b7 (pk: 1985)>}"
      ]
     },
     "execution_count": 14,
     "metadata": {},
     "output_type": "execute_result"
    }
   ],
   "source": [
    "run[0]"
   ]
  },
  {
   "cell_type": "markdown",
   "metadata": {},
   "source": [
    "Currently, no parser for non-collinear magnetization is implemented in the `aiida-quantumespresso` plugin."
   ]
  },
  {
   "cell_type": "markdown",
   "metadata": {},
   "source": [
    "## How to run DFT+U (+V)\n",
    "\n",
    "In the following we show how to run a DFT+U calculation. We consider the Hubbard parameters to be known (we don't compute them here).\n",
    "As implemented in the [`HubbardStructureData`](https://aiida-vibroscopy.readthedocs.io/en/latest/5_iraman_functionals.html#defining-the-hubbardstructuredata), also for our atomistic `StructureData` we need to define the `Hubbard` class, now part of the `properties` attribute. We load the structure using pymatgen:"
   ]
  },
  {
   "cell_type": "code",
   "execution_count": 3,
   "metadata": {},
   "outputs": [
    {
     "name": "stderr",
     "output_type": "stream",
     "text": [
      "/opt/conda/lib/python3.10/site-packages/pymatgen/io/cif.py:1225: UserWarning: Issues encountered while parsing CIF: 2 fractional coordinates rounded to ideal values to avoid issues with finite precision.\n",
      "Skipping relative stoichiometry check because CIF does not contain formula keys.\n",
      "  warnings.warn(\"Issues encountered while parsing CIF: \" + \"\\n\".join(self.warnings))\n"
     ]
    }
   ],
   "source": [
    "from pymatgen.core import Structure\n",
    "\n",
    "Mn3Sn = Structure.from_file('../examples/structure/data/0.200_Mn3Sn.mcif', primitive=True)\n",
    "mutable_structure = StructureDataMutable.from_pymatgen(Mn3Sn)"
   ]
  },
  {
   "cell_type": "code",
   "execution_count": 4,
   "metadata": {},
   "outputs": [
    {
     "data": {
      "text/plain": [
       "[<SiteImmutable: kind name 'Mn0' @ 2.8325,3.3243285790685615,1.1327500000000004>,\n",
       " <SiteImmutable: kind name 'Mn1' @ 4.295203,0.7908526666851419,1.1327500000000004>,\n",
       " <SiteImmutable: kind name 'Mn0' @ 1.4632917100243504e-16,1.5817053333702837,3.39825>,\n",
       " <SiteImmutable: kind name 'Mn1' @ -1.4627029999999996,4.115181245753703,3.39825>,\n",
       " <SiteImmutable: kind name 'Mn4' @ 1.3697970000000002,0.7908526666851419,1.1327500000000001>,\n",
       " <SiteImmutable: kind name 'Mn4' @ 1.4627030000000005,4.115181245753703,3.3982500000000004>,\n",
       " <SiteImmutable: kind name 'Sn6' @ 2.528532938583794e-16,3.27068927495923,1.1327500000000004>,\n",
       " <SiteImmutable: kind name 'Sn6' @ 2.8325000000000005,1.6353446374796152,3.39825>]"
      ]
     },
     "execution_count": 4,
     "metadata": {},
     "output_type": "execute_result"
    }
   ],
   "source": [
    "mutable_structure.properties.sites"
   ]
  },
  {
   "cell_type": "markdown",
   "metadata": {},
   "source": [
    "This is a magnetic structure. However, let's suppose we don't want to run a magnetic calculation. We can remove the `magmoms` property using the "
   ]
  },
  {
   "cell_type": "code",
   "execution_count": 5,
   "metadata": {},
   "outputs": [
    {
     "data": {
      "text/plain": [
       "[[0.0, 0.0, 0.0],\n",
       " [0.0, 0.0, 0.0],\n",
       " [0.0, 0.0, 0.0],\n",
       " [0.0, 0.0, 0.0],\n",
       " [0.0, 0.0, 0.0],\n",
       " [0.0, 0.0, 0.0],\n",
       " [0.0, 0.0, 0.0],\n",
       " [0.0, 0.0, 0.0]]"
      ]
     },
     "execution_count": 5,
     "metadata": {},
     "output_type": "execute_result"
    }
   ],
   "source": [
    "mutable_structure.clear_property(\"magmoms\")\n",
    "\n",
    "mutable_structure.properties.magmoms"
   ]
  },
  {
   "cell_type": "code",
   "execution_count": 6,
   "metadata": {},
   "outputs": [
    {
     "data": {
      "text/plain": [
       "{'cell', 'kinds', 'masses', 'positions', 'symbols'}"
      ]
     },
     "execution_count": 6,
     "metadata": {},
     "output_type": "execute_result"
    }
   ],
   "source": [
    "mutable_structure.get_defined_properties()"
   ]
  },
  {
   "cell_type": "markdown",
   "metadata": {},
   "source": [
    "Then, we attach the hubbard parameters using the `initialize_onsites_hubbard` method of the `StructureDataMutable`:"
   ]
  },
  {
   "cell_type": "code",
   "execution_count": 13,
   "metadata": {},
   "outputs": [
    {
     "data": {
      "text/plain": [
       "[HubbardParameters(atom_index=0, atom_manifold='3d', neighbour_index=0, neighbour_manifold='3d', translation=(0, 0, 0), value=4.0, hubbard_type='U'),\n",
       " HubbardParameters(atom_index=4, atom_manifold='3d', neighbour_index=4, neighbour_manifold='3d', translation=(0, 0, 0), value=4.0, hubbard_type='U'),\n",
       " HubbardParameters(atom_index=1, atom_manifold='3d', neighbour_index=1, neighbour_manifold='3d', translation=(0, 0, 0), value=4.0, hubbard_type='U')]"
      ]
     },
     "execution_count": 13,
     "metadata": {},
     "output_type": "execute_result"
    }
   ],
   "source": [
    "for kind in set(mutable_structure.properties.kinds):\n",
    "    if \"Mn\" in kind:\n",
    "        mutable_structure.initialize_onsites_hubbard(kind, '3d', 4, 'U', use_kinds=True)\n",
    "mutable_structure.properties.hubbard.parameters"
   ]
  },
  {
   "cell_type": "markdown",
   "metadata": {},
   "source": [
    "Please note that we have three Mn kinds, detected during the initialization of the structure (being magnetic, the three kinds are detected using the initial magmoms). We can change the kinds to coincide, so that we have only one Mn kind: `mutable_structure.clear_property(\"kinds\")`.\n",
    "We are now ready to run the calculation:"
   ]
  },
  {
   "cell_type": "code",
   "execution_count": 14,
   "metadata": {},
   "outputs": [
    {
     "name": "stderr",
     "output_type": "stream",
     "text": [
      "09/30/2024 09:57:01 AM <1772356> aiida.orm.nodes.process.workflow.workchain.WorkChainNode: [REPORT] [2010|PwBaseWorkChain|run_process]: launching PwCalculation<2015> iteration #1\n",
      "09/30/2024 10:00:19 AM <1772356> aiida.parser.PwParser: [ERROR] ERROR_ELECTRONIC_CONVERGENCE_NOT_REACHED\n",
      "09/30/2024 10:00:19 AM <1772356> aiida.parser.PwParser: [ERROR] The electronic minimization cycle did not reach self-consistency.\n",
      "09/30/2024 10:00:19 AM <1772356> aiida.orm.nodes.process.calculation.calcjob.CalcJobNode: [WARNING] output parser returned exit code<410>: The electronic minimization cycle did not reach self-consistency.\n",
      "09/30/2024 10:00:19 AM <1772356> aiida.orm.nodes.process.workflow.workchain.WorkChainNode: [REPORT] [2010|PwBaseWorkChain|report_error_handled]: PwCalculation<2015> failed with exit status 410: The electronic minimization cycle did not reach self-consistency.\n",
      "09/30/2024 10:00:19 AM <1772356> aiida.orm.nodes.process.workflow.workchain.WorkChainNode: [REPORT] [2010|PwBaseWorkChain|report_error_handled]: Action taken: reduced beta mixing from 0.4 to 0.32000000000000006 and restarting from the last calculation\n",
      "09/30/2024 10:00:20 AM <1772356> aiida.orm.nodes.process.workflow.workchain.WorkChainNode: [REPORT] [2010|PwBaseWorkChain|inspect_process]: PwCalculation<2015> failed but a handler dealt with the problem, restarting\n",
      "09/30/2024 10:00:20 AM <1772356> aiida.orm.nodes.process.workflow.workchain.WorkChainNode: [REPORT] [2010|PwBaseWorkChain|run_process]: launching PwCalculation<2023> iteration #2\n",
      "09/30/2024 10:03:12 AM <1772356> aiida.orm.nodes.process.workflow.workchain.WorkChainNode: [REPORT] [2010|PwBaseWorkChain|results]: work chain completed after 2 iterations\n",
      "09/30/2024 10:03:12 AM <1772356> aiida.orm.nodes.process.workflow.workchain.WorkChainNode: [REPORT] [2010|PwBaseWorkChain|on_terminated]: remote folders will not be cleaned\n"
     ]
    }
   ],
   "source": [
    "from aiida.engine import submit, run_get_node\n",
    "\n",
    "structure = mutable_structure.to_immutable()\n",
    "\n",
    "builder = PwBaseWorkChain.get_builder_from_protocol(\n",
    "    code=orm.load_code(\"pw-qe-7.2@localhost\"), \n",
    "    structure=structure,\n",
    "    protocol=\"fast\",\n",
    "    )\n",
    "\n",
    "run = run_get_node(builder)"
   ]
  },
  {
   "cell_type": "code",
   "execution_count": null,
   "metadata": {},
   "outputs": [],
   "source": []
  }
 ],
 "metadata": {
  "kernelspec": {
   "display_name": "base",
   "language": "python",
   "name": "python3"
  },
  "language_info": {
   "codemirror_mode": {
    "name": "ipython",
    "version": 3
   },
   "file_extension": ".py",
   "mimetype": "text/x-python",
   "name": "python",
   "nbconvert_exporter": "python",
   "pygments_lexer": "ipython3",
   "version": "3.10.13"
  }
 },
 "nbformat": 4,
 "nbformat_minor": 2
}
